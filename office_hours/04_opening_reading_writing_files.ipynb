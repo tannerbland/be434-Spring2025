{
 "cells": [
  {
   "cell_type": "markdown",
   "id": "6aa22b13",
   "metadata": {},
   "source": [
    "## Files"
   ]
  },
  {
   "cell_type": "markdown",
   "id": "6845a35a",
   "metadata": {},
   "source": [
    "### Reading Files"
   ]
  },
  {
   "cell_type": "code",
   "execution_count": null,
   "id": "136e3488",
   "metadata": {},
   "outputs": [],
   "source": [
    "f = open('bustle.txt', 'r')\n",
    "print(f)"
   ]
  },
  {
   "cell_type": "code",
   "execution_count": null,
   "id": "37766ca7",
   "metadata": {},
   "outputs": [],
   "source": [
    "f.readline()"
   ]
  },
  {
   "cell_type": "code",
   "execution_count": null,
   "id": "cbaa3c36",
   "metadata": {},
   "outputs": [],
   "source": [
    "f.readlines()"
   ]
  },
  {
   "cell_type": "code",
   "execution_count": null,
   "id": "d4b71184",
   "metadata": {},
   "outputs": [],
   "source": [
    "f = open('bustle.txt', 'r')\n",
    "for line in f.readlines():\n",
    "    print(line.strip())"
   ]
  },
  {
   "cell_type": "markdown",
   "id": "f50154d9",
   "metadata": {},
   "source": [
    "### Writing Files"
   ]
  },
  {
   "cell_type": "code",
   "execution_count": null,
   "id": "0a968992",
   "metadata": {},
   "outputs": [],
   "source": [
    "f = open('my_poem.txt', 'w')\n",
    "print(f)"
   ]
  },
  {
   "cell_type": "code",
   "execution_count": null,
   "id": "5494eb04",
   "metadata": {},
   "outputs": [],
   "source": [
    "f.write('I am Sam\\n')\n",
    "f.write('Sam I am\\n')"
   ]
  },
  {
   "cell_type": "code",
   "execution_count": 54,
   "id": "b222ea93",
   "metadata": {},
   "outputs": [],
   "source": [
    "f.close()"
   ]
  },
  {
   "cell_type": "code",
   "execution_count": null,
   "id": "3d77a43c",
   "metadata": {},
   "outputs": [],
   "source": [
    "with open('my_poem.txt', 'r') as f:\n",
    "    for line in f:\n",
    "        print(line.strip())\n",
    "f.close()"
   ]
  },
  {
   "cell_type": "markdown",
   "id": "8a54d22e",
   "metadata": {},
   "source": [
    "### Appending Files"
   ]
  },
  {
   "cell_type": "code",
   "execution_count": 56,
   "id": "42b670c3",
   "metadata": {},
   "outputs": [],
   "source": [
    "f = open('my_poem.txt', 'a')\n",
    "f.write('That Sam I am\\n')\n",
    "f.write('That Sam I am\\n')\n",
    "f.write('I do not like that Sam I am\\n')\n",
    "f.close()"
   ]
  },
  {
   "cell_type": "code",
   "execution_count": null,
   "id": "f31e49af",
   "metadata": {},
   "outputs": [],
   "source": [
    "with open('my_poem.txt', 'r') as f:\n",
    "    for line in f:\n",
    "        print(line.strip())\n",
    "f.close()"
   ]
  },
  {
   "cell_type": "code",
   "execution_count": null,
   "id": "623506cf",
   "metadata": {},
   "outputs": [],
   "source": [
    "with open('my_poem.txt', 'a') as f:\n",
    "    f.write('Do you like Green Eggs and Ham?\\n')\n",
    "    f.write('I do not like them Sam I am\\n')\n",
    "    \n",
    "print(f)"
   ]
  },
  {
   "cell_type": "code",
   "execution_count": null,
   "id": "95ceddb9",
   "metadata": {},
   "outputs": [],
   "source": [
    "with open('my_poem.txt', 'r') as f:\n",
    "    for line in f:\n",
    "        print(line.strip())"
   ]
  },
  {
   "cell_type": "code",
   "execution_count": null,
   "id": "a8663ad4",
   "metadata": {},
   "outputs": [],
   "source": [
    "f.write('Would you like them here or there?')"
   ]
  },
  {
   "cell_type": "code",
   "execution_count": null,
   "id": "527c4fbd",
   "metadata": {},
   "outputs": [],
   "source": [
    "!ls"
   ]
  },
  {
   "cell_type": "code",
   "execution_count": null,
   "id": "06f58194",
   "metadata": {},
   "outputs": [],
   "source": [
    "import os\n",
    "os.path.isfile('blarg')"
   ]
  },
  {
   "cell_type": "code",
   "execution_count": null,
   "id": "0306e50b",
   "metadata": {},
   "outputs": [],
   "source": [
    "os.path.isfile('my_poem.txt')"
   ]
  },
  {
   "cell_type": "code",
   "execution_count": null,
   "id": "be48b8d9",
   "metadata": {},
   "outputs": [],
   "source": [
    "file = '~/be434-Spring2025/office_hours/my_poem.txt'\n",
    "os.path.dirname(file)"
   ]
  },
  {
   "cell_type": "code",
   "execution_count": null,
   "id": "3292bc4f",
   "metadata": {},
   "outputs": [],
   "source": [
    "os.path.basename(file)"
   ]
  },
  {
   "cell_type": "code",
   "execution_count": null,
   "id": "a6840669",
   "metadata": {},
   "outputs": [],
   "source": [
    "file = '~/be434-Spring2025/office_hours/blarg.txt'\n",
    "if os.path.isfile(file):\n",
    "    fh = open(file)\n",
    "else:\n",
    "    print(f'{file} is not a file')"
   ]
  }
 ],
 "metadata": {
  "kernelspec": {
   "display_name": "Python 3 (ipykernel)",
   "language": "python",
   "name": "python3"
  },
  "language_info": {
   "codemirror_mode": {
    "name": "ipython",
    "version": 3
   },
   "file_extension": ".py",
   "mimetype": "text/x-python",
   "name": "python",
   "nbconvert_exporter": "python",
   "pygments_lexer": "ipython3",
   "version": "3.9.13"
  }
 },
 "nbformat": 4,
 "nbformat_minor": 5
}
