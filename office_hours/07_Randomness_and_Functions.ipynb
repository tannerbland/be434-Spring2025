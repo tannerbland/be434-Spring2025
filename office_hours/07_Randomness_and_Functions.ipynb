{
 "cells": [
  {
   "cell_type": "markdown",
   "id": "9d1617a5",
   "metadata": {},
   "source": [
    "## Randomness"
   ]
  },
  {
   "cell_type": "code",
   "execution_count": 58,
   "id": "a1364c9f",
   "metadata": {},
   "outputs": [],
   "source": [
    "# Randomness is not totally random!\n",
    "# We can control randomness on a computer with a seed, this allows us to test our programs.\n",
    "# We can set that seed using the random package\n",
    "import random\n",
    "seed = 3\n",
    "random.seed(seed)"
   ]
  },
  {
   "cell_type": "code",
   "execution_count": 74,
   "id": "90fbb9a2",
   "metadata": {},
   "outputs": [],
   "source": [
    "# The insult generator, Valley girl style\n",
    "adjectives = ['awesome', 'cheesy', 'butt ugly', 'gnarly', 'lame', 'major', 'grody']\n",
    "nouns = ['poser', 'preppie', 'wannabe', 'hoser', 'dweeb']\n",
    "action = ['gag me with a spoon', 'have a cow', 'party hardy', 'quit spazzing', 'totally stoked', 'gross out']"
   ]
  },
  {
   "cell_type": "code",
   "execution_count": null,
   "id": "8e71edd6",
   "metadata": {},
   "outputs": [],
   "source": [
    "random.choice(nouns)"
   ]
  },
  {
   "cell_type": "code",
   "execution_count": null,
   "id": "547ad152",
   "metadata": {},
   "outputs": [],
   "source": [
    "# sample without replacement\n",
    "k = 2\n",
    "random.sample(adjectives, k)"
   ]
  },
  {
   "cell_type": "code",
   "execution_count": null,
   "id": "0924fff5",
   "metadata": {},
   "outputs": [],
   "source": [
    "# Are there adjectives you particularly love? You can weight them.\n",
    "# sample with replacement, and give a weight\n",
    "weights = [7,6,5,4,3,2,1]\n",
    "random.choices(adjectives, weights=weights, k=2)"
   ]
  },
  {
   "cell_type": "code",
   "execution_count": null,
   "id": "70125dae",
   "metadata": {},
   "outputs": [],
   "source": [
    "# putting it together\n",
    "my_adjectives = ', '.join(random.choices(adjectives, weights=weights, k=2))\n",
    "my_noun = random.choice(nouns)\n",
    "my_action = random.choice(action)\n",
    "print(f'You {my_adjectives} {my_noun}, {my_action}')"
   ]
  },
  {
   "cell_type": "markdown",
   "id": "ba586f0c",
   "metadata": {},
   "source": [
    "## Functions"
   ]
  },
  {
   "cell_type": "code",
   "execution_count": null,
   "id": "ad0049c8",
   "metadata": {},
   "outputs": [],
   "source": [
    "def multiplyByTwo(val):\n",
    "    return 2 * val\n",
    "\n",
    "multiplyByTwo(6)"
   ]
  },
  {
   "cell_type": "code",
   "execution_count": 79,
   "id": "5b73fcaa",
   "metadata": {},
   "outputs": [],
   "source": [
    "def multiply(val1, val2):\n",
    "    return val1 * val2"
   ]
  },
  {
   "cell_type": "code",
   "execution_count": null,
   "id": "9b62e051",
   "metadata": {},
   "outputs": [],
   "source": [
    "# returning a result\n",
    "for num in range(1,5):\n",
    "    num_plus_one = num+1\n",
    "    result = multiply(num, num_plus_one)\n",
    "    print(f'{num} * {num_plus_one} = {result}')\n"
   ]
  },
  {
   "cell_type": "code",
   "execution_count": null,
   "id": "2cec9e99",
   "metadata": {},
   "outputs": [],
   "source": [
    "# making a modification of a list, no result needed.\n",
    "\n",
    "a = [1,2,3]\n",
    "\n",
    "def appendFour(myList):\n",
    "    myList.append(4)\n",
    "    \n",
    "appendFour(a)\n",
    "print(a)"
   ]
  },
  {
   "cell_type": "markdown",
   "id": "9db21143",
   "metadata": {},
   "source": [
    "### Homework Hints"
   ]
  },
  {
   "cell_type": "code",
   "execution_count": null,
   "id": "d44f337e",
   "metadata": {},
   "outputs": [],
   "source": [
    "# When you define seqtype you can save some coding by using \"choices\"\n",
    "# This will make it so the user can only select one of the two choices below.\n",
    "# Also, be sure to add all of the arguments exactly as described, with the default values required. \n",
    "import argparse\n",
    "\n",
    "parser = argparse.ArgumentParser(\n",
    "    description='Create synthetic sequences',\n",
    "    formatter_class=argparse.ArgumentDefaultsHelpFormatter)\n",
    "\n",
    "parser.add_argument('-t',\n",
    "                    '--seqtype',\n",
    "                    help='DNA or RNA',\n",
    "                    metavar='str',\n",
    "                    type=str,\n",
    "                    choices=['dna', 'rna'],\n",
    "                    default='dna')\n",
    "\n"
   ]
  },
  {
   "cell_type": "code",
   "execution_count": null,
   "id": "66a73e7b",
   "metadata": {},
   "outputs": [],
   "source": [
    "# You can also check if the user is providing the correct range of values in argparse like so...\n",
    "\n",
    "import argparse\n",
    "\n",
    "parser = argparse.ArgumentParser(\n",
    "    description='Create synthetic sequences',\n",
    "    formatter_class=argparse.ArgumentDefaultsHelpFormatter)\n",
    "\n",
    "parser.add_argument('-p',\n",
    "                    '--pctgc',\n",
    "                    help='Percent GC',\n",
    "                    metavar='float',\n",
    "                    type=float,\n",
    "                    default=0.5)\n",
    "\n",
    "args = parser.parse_args()\n",
    "\n",
    "if not 0 < args.pctgc < 1:\n",
    "    parser.error(f'--pctgc \"{args.pctgc}\" must be between 0 and 1')\n",
    "\n"
   ]
  },
  {
   "cell_type": "code",
   "execution_count": null,
   "id": "f256e944",
   "metadata": {},
   "outputs": [],
   "source": [
    "# use the create pool function provided to create a pool of sequences\n",
    "\n",
    "# --------------------------------------------------\n",
    "def create_pool(pctgc, max_len, seq_type):\n",
    "    \"\"\" Create the pool of bases to choose from \"\"\"\n",
    "\n",
    "    t_or_u = 'T' if seq_type == 'dna' else 'U'\n",
    "    num_gc = int((pctgc / 2) * max_len)\n",
    "    num_at = int(((1 - pctgc) / 2) * max_len)\n",
    "    pool = 'A' * num_at + 'C' * num_gc + 'G' * num_gc + t_or_u * num_at\n",
    "\n",
    "    for _ in range(max_len - len(pool)):\n",
    "        pool += random.choice(pool)\n",
    "\n",
    "    return ''.join(sorted(pool))\n"
   ]
  },
  {
   "cell_type": "code",
   "execution_count": null,
   "id": "9595e614",
   "metadata": {},
   "outputs": [],
   "source": [
    "# You can then call this function from main to create a random sequence of a certain length\n",
    "pctgc = 0.5\n",
    "maxlen = 50\n",
    "seqtype = 'rna'\n",
    "sequence1 = create_pool(pctgc, maxlen, seqtype)\n",
    "print(sequence1)\n",
    "\n",
    "sequence2 = create_pool(pctgc, maxlen, seqtype)\n",
    "print(sequence2)\n",
    "\n"
   ]
  },
  {
   "cell_type": "code",
   "execution_count": 96,
   "id": "9b5c3d26",
   "metadata": {},
   "outputs": [],
   "source": [
    "# note that we can test our own functions to make sure they work\n",
    "# notice how the test also gives us a very clear understanding of how we'll pass in and receive values\n",
    "# Notice also that we are setting a specific seed -> random.seed(1), this means the result of the test will always be the same\n",
    "\n",
    "# --------------------------------------------------\n",
    "def test_create_pool():\n",
    "    \"\"\" Test create_pool \"\"\"\n",
    "\n",
    "    state = random.getstate()\n",
    "    random.seed(1)\n",
    "    assert create_pool(.5, 10, 'dna') == 'AAACCCGGTT'\n",
    "    assert create_pool(.6, 11, 'rna') == 'AACCCCGGGUU'\n",
    "    assert create_pool(.7, 12, 'dna') == 'ACCCCCGGGGGT'\n",
    "    assert create_pool(.7, 20, 'rna') == 'AAACCCCCCCGGGGGGGUUU'\n",
    "    assert create_pool(.4, 15, 'dna') == 'AAAACCCGGGTTTTT'\n",
    "    random.setstate(state)"
   ]
  },
  {
   "cell_type": "code",
   "execution_count": 97,
   "metadata": {},
   "outputs": [],
   "source": [
    "# If you run the test, you should get nothing..\n",
    "\n",
    "test_create_pool()"
   ]
  },
  {
   "cell_type": "code",
   "execution_count": null,
   "id": "d77a1b1d",
   "metadata": {},
   "outputs": [],
   "source": [
    "random.seed(1)\n",
    "create_pool(.5, 10, 'dna')"
   ]
  }
 ],
 "metadata": {
  "kernelspec": {
   "display_name": "Python 3 (ipykernel)",
   "language": "python",
   "name": "python3"
  },
  "language_info": {
   "codemirror_mode": {
    "name": "ipython",
    "version": 3
   },
   "file_extension": ".py",
   "mimetype": "text/x-python",
   "name": "python",
   "nbconvert_exporter": "python",
   "pygments_lexer": "ipython3",
   "version": "3.9.6"
  }
 },
 "nbformat": 4,
 "nbformat_minor": 5
}
