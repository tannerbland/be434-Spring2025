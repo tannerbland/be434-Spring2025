{
 "cells": [
  {
   "cell_type": "markdown",
   "id": "72e8177d",
   "metadata": {},
   "source": [
    "# Basic Data Types"
   ]
  },
  {
   "cell_type": "markdown",
   "id": "62f373f2",
   "metadata": {},
   "source": [
    "## Defining a Variable"
   ]
  },
  {
   "cell_type": "code",
   "execution_count": 1,
   "id": "c625d1e8",
   "metadata": {},
   "outputs": [],
   "source": [
    "x = 5"
   ]
  },
  {
   "cell_type": "code",
   "execution_count": null,
   "id": "e33dd9d1",
   "metadata": {},
   "outputs": [],
   "source": [
    "print(x)"
   ]
  },
  {
   "cell_type": "code",
   "execution_count": null,
   "id": "396bd3c1",
   "metadata": {},
   "outputs": [],
   "source": [
    "x"
   ]
  },
  {
   "cell_type": "code",
   "execution_count": null,
   "id": "e26b25dc",
   "metadata": {},
   "outputs": [],
   "source": [
    "1x"
   ]
  },
  {
   "cell_type": "code",
   "execution_count": 6,
   "id": "d045d01a",
   "metadata": {},
   "outputs": [],
   "source": [
    "name = 'Bonnie'"
   ]
  },
  {
   "cell_type": "code",
   "execution_count": null,
   "id": "eac35943",
   "metadata": {},
   "outputs": [],
   "source": [
    "type(name)"
   ]
  },
  {
   "cell_type": "code",
   "execution_count": null,
   "id": "1a93aa83",
   "metadata": {},
   "outputs": [],
   "source": [
    "type(x)"
   ]
  },
  {
   "cell_type": "markdown",
   "id": "8b7a8afe",
   "metadata": {},
   "source": [
    "## Numbers"
   ]
  },
  {
   "cell_type": "code",
   "execution_count": null,
   "id": "66b59611",
   "metadata": {},
   "outputs": [],
   "source": [
    "type(1.5)"
   ]
  },
  {
   "cell_type": "code",
   "execution_count": null,
   "id": "260be4ae",
   "metadata": {},
   "outputs": [],
   "source": [
    "1.23456789"
   ]
  },
  {
   "cell_type": "code",
   "execution_count": null,
   "id": "b0c62fcc",
   "metadata": {},
   "outputs": [],
   "source": [
    "12345678.9"
   ]
  },
  {
   "cell_type": "code",
   "execution_count": null,
   "id": "b57e9f24",
   "metadata": {},
   "outputs": [],
   "source": [
    "type(2j)"
   ]
  },
  {
   "cell_type": "code",
   "execution_count": null,
   "id": "70f204ce",
   "metadata": {},
   "outputs": [],
   "source": [
    "1j * 1j"
   ]
  },
  {
   "cell_type": "markdown",
   "id": "d6b29b9e",
   "metadata": {},
   "source": [
    "## Strings"
   ]
  },
  {
   "cell_type": "code",
   "execution_count": null,
   "id": "4b72f826",
   "metadata": {},
   "outputs": [],
   "source": [
    "'String 1 ' + 'String 2'"
   ]
  },
  {
   "cell_type": "code",
   "execution_count": null,
   "id": "14c2ced2",
   "metadata": {},
   "outputs": [],
   "source": [
    "'1' + '1'"
   ]
  },
  {
   "cell_type": "code",
   "execution_count": null,
   "id": "1b327896",
   "metadata": {},
   "outputs": [],
   "source": [
    "'1' + 1"
   ]
  },
  {
   "cell_type": "markdown",
   "id": "9afbc149",
   "metadata": {},
   "source": [
    "## Booleans"
   ]
  },
  {
   "cell_type": "code",
   "execution_count": null,
   "id": "a3d9b9bc",
   "metadata": {},
   "outputs": [],
   "source": [
    "True"
   ]
  },
  {
   "cell_type": "code",
   "execution_count": null,
   "id": "a8379a41",
   "metadata": {},
   "outputs": [],
   "source": [
    "False"
   ]
  },
  {
   "cell_type": "code",
   "execution_count": 18,
   "id": "e3c34286",
   "metadata": {},
   "outputs": [],
   "source": [
    "true = True"
   ]
  },
  {
   "cell_type": "code",
   "execution_count": null,
   "id": "85d586ae",
   "metadata": {},
   "outputs": [],
   "source": [
    "1 == 1"
   ]
  },
  {
   "cell_type": "code",
   "execution_count": null,
   "id": "4992ca39",
   "metadata": {},
   "outputs": [],
   "source": [
    "1 == 2"
   ]
  },
  {
   "cell_type": "code",
   "execution_count": null,
   "id": "bde64579",
   "metadata": {},
   "outputs": [],
   "source": []
  }
 ],
 "metadata": {
  "kernelspec": {
   "display_name": "Python 3 (ipykernel)",
   "language": "python",
   "name": "python3"
  },
  "language_info": {
   "codemirror_mode": {
    "name": "ipython",
    "version": 3
   },
   "file_extension": ".py",
   "mimetype": "text/x-python",
   "name": "python",
   "nbconvert_exporter": "python",
   "pygments_lexer": "ipython3",
   "version": "3.9.13"
  }
 },
 "nbformat": 4,
 "nbformat_minor": 5
}
