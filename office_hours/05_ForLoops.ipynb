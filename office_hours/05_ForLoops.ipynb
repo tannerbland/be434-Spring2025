{
 "cells": [
  {
   "cell_type": "markdown",
   "id": "6e97b9bf",
   "metadata": {},
   "source": [
    "## For Loops"
   ]
  },
  {
   "cell_type": "code",
   "execution_count": null,
   "id": "5d4b6b1b",
   "metadata": {},
   "outputs": [],
   "source": [
    "myList = [1,2,3,4]\n",
    "for item in myList:\n",
    "    print(item)"
   ]
  },
  {
   "cell_type": "markdown",
   "id": "c55538c8",
   "metadata": {},
   "source": [
    "## Hints on the extra practice (translate.py)"
   ]
  },
  {
   "cell_type": "markdown",
   "id": "81dfacc7",
   "metadata": {},
   "source": [
    "### Create a program to look up state names from a sequence of state codes\n",
    "\n",
    "Open a file with the state codes called states.txt\n",
    "Create a lookup table with those state codes\n",
    "Walk through a sequence listing any number of state codes, and convert it into the state names\n",
    "If the state code is missing add a '-' instead.\n",
    "\n",
    "for example, 'caaz' = CalifoniaArizona"
   ]
  },
  {
   "cell_type": "code",
   "execution_count": null,
   "id": "12279489",
   "metadata": {},
   "outputs": [],
   "source": [
    "# Let's see if you can create a loop up table (aka dictionary) of state codes and their names.\n",
    "!cat states.txt | head"
   ]
  },
  {
   "cell_type": "code",
   "execution_count": null,
   "id": "264473ed",
   "metadata": {},
   "outputs": [],
   "source": [
    "\n",
    "import argparse\n",
    "import sys\n",
    "sys.argv = [''] # This is for Jupyter so it just runs argparse, no user input.\n",
    "\n",
    "def get_args():\n",
    "    \"\"\"Get command-line arguments\"\"\"\n",
    "\n",
    "    parser = argparse.ArgumentParser(\n",
    "        description='lookup states',\n",
    "        formatter_class=argparse.ArgumentDefaultsHelpFormatter)\n",
    "\n",
    "    # Note that I am using a default sequence in the cells below, so Jupyter can use it.\n",
    "    # But, this is how you woud get the sequence as an input from the command line.\n",
    "    #parser.add_argument('sequence',\n",
    "    #                    metavar='str',\n",
    "    #                    help='A positional argument')\n",
    "    \n",
    "    parser.add_argument('-s',\n",
    "                        '--states',\n",
    "                        help='States Lookup file',\n",
    "                        metavar='FILE',\n",
    "                        type=argparse.FileType('rt'),\n",
    "                        #required=True,\n",
    "                        default='states.txt')\n",
    "\n",
    "    parser.add_argument('-o',\n",
    "                        '--outfile',\n",
    "                        help='Output file',\n",
    "                        metavar='FILE',\n",
    "                        type=argparse.FileType('wt'),\n",
    "                        #default=sys.stdout)\n",
    "                        default='out.txt')\n",
    "\n",
    "    return parser.parse_args()\n"
   ]
  },
  {
   "cell_type": "code",
   "execution_count": null,
   "id": "34865061",
   "metadata": {},
   "outputs": [],
   "source": [
    "# Let's loop through these states\n",
    "args = get_args()\n",
    "\n",
    "for line in args.states:\n",
    "    line = line.strip()\n",
    "    print(line)"
   ]
  },
  {
   "cell_type": "code",
   "execution_count": null,
   "id": "0b96d9e5",
   "metadata": {},
   "outputs": [],
   "source": [
    "args = get_args()\n",
    "\n",
    "# Create a lookup table of the states\n",
    "state_lookup = {}\n",
    "for line in args.states:\n",
    "    line = line.strip()\n",
    "    key, val = line.split(\"\\t\")\n",
    "    state_lookup[key] = val\n",
    "\n",
    "for code, state in state_lookup.items():\n",
    "    print(f'{code}\\t{state}')"
   ]
  },
  {
   "cell_type": "code",
   "execution_count": null,
   "id": "923191e8",
   "metadata": {},
   "outputs": [],
   "source": [
    "# How many states do we have? We can count them\n",
    "state_count = 0\n",
    "for code, state in state_lookup.items():\n",
    "    state_count+=1\n",
    "print (state_count)"
   ]
  },
  {
   "cell_type": "code",
   "execution_count": null,
   "id": "6fd4588c",
   "metadata": {},
   "outputs": [],
   "source": [
    "# We can also interate through a range of numbers and print every other state in a list\n",
    "seq = ['AZ', 'WA', 'TN', 'OH', 'CA']\n",
    "k = 2\n",
    "#print(len(seq))\n",
    "for i in range(0, len(seq), k):\n",
    "    print(i)\n",
    "    print(seq[i])"
   ]
  },
  {
   "cell_type": "code",
   "execution_count": null,
   "id": "068937be",
   "metadata": {},
   "outputs": [],
   "source": [
    "# What if our user provides us with a sequence of states as a line of text.\n",
    "# We can get two letters at a time to represent the state code.\n",
    "\n",
    "args = get_args()\n",
    "\n",
    "# Convert a sequence of letters into the states they represent\n",
    "sequence = 'azwatnoh'\n",
    "seq = sequence.upper()\n",
    "states = ''\n",
    "k = 2\n",
    "\n",
    "# reading this next line of code from the end to beginning...\n",
    "# Part 1: for i in range(0, len(seq), k)], changes the value of i and incrementing by k.\n",
    "# Part 2: seq[i:i + k], splices the string \"seq\"\n",
    "# Part 3: for code in ..., get the result of the splicing.\n",
    "for code in [seq[i:i + k] for i in range(0, len(seq), k)]:\n",
    "    states += state_lookup.get(code.upper(), '-')\n",
    "\n",
    "print(states)\n",
    "print(states, file=args.outfile)\n"
   ]
  },
  {
   "cell_type": "code",
   "execution_count": null,
   "id": "977a5d46",
   "metadata": {},
   "outputs": [],
   "source": [
    "!cat out.txt"
   ]
  }
 ],
 "metadata": {
  "kernelspec": {
   "display_name": "Python 3 (ipykernel)",
   "language": "python",
   "name": "python3"
  },
  "language_info": {
   "codemirror_mode": {
    "name": "ipython",
    "version": 3
   },
   "file_extension": ".py",
   "mimetype": "text/x-python",
   "name": "python",
   "nbconvert_exporter": "python",
   "pygments_lexer": "ipython3",
   "version": "3.9.6"
  }
 },
 "nbformat": 4,
 "nbformat_minor": 5
}
