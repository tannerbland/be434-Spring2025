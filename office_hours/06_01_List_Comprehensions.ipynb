{
 "cells": [
  {
   "cell_type": "markdown",
   "id": "345ce831",
   "metadata": {},
   "source": [
    "## List Comprehensions"
   ]
  },
  {
   "cell_type": "code",
   "execution_count": 44,
   "id": "1ac3c215",
   "metadata": {},
   "outputs": [
    {
     "data": {
      "text/plain": [
       "[2, 4, 6, 8, 10]"
      ]
     },
     "execution_count": 44,
     "metadata": {},
     "output_type": "execute_result"
    }
   ],
   "source": [
    "myList = [1,2,3,4,5]\n",
    "[2*item for item in myList]"
   ]
  },
  {
   "cell_type": "markdown",
   "id": "21948942",
   "metadata": {},
   "source": [
    "### List comprehensions with filters"
   ]
  },
  {
   "cell_type": "code",
   "execution_count": 45,
   "id": "4d3e4c21",
   "metadata": {},
   "outputs": [
    {
     "data": {
      "text/plain": [
       "[0, 10, 20, 30, 40, 50, 60, 70, 80, 90]"
      ]
     },
     "execution_count": 45,
     "metadata": {},
     "output_type": "execute_result"
    }
   ],
   "source": [
    "myList = list(range(100))\n",
    "filteredList = [item for item in myList if item % 10 == 0]\n",
    "filteredList"
   ]
  },
  {
   "cell_type": "markdown",
   "id": "6463db7f",
   "metadata": {},
   "source": [
    "### List comprehensions with functions"
   ]
  },
  {
   "cell_type": "code",
   "execution_count": 46,
   "id": "18b7d353",
   "metadata": {},
   "outputs": [
    {
     "data": {
      "text/plain": [
       "['My name is Bonnie', ' I love Bioinformatics']"
      ]
     },
     "execution_count": 46,
     "metadata": {},
     "output_type": "execute_result"
    }
   ],
   "source": [
    "myString = 'My name is Bonnie. I love Bioinformatics'\n",
    "myString.split('.')"
   ]
  },
  {
   "cell_type": "code",
   "execution_count": 47,
   "id": "097bb41d",
   "metadata": {},
   "outputs": [
    {
     "data": {
      "text/plain": [
       "['My', 'name', 'is', 'Bonnie.', 'I', 'love', 'Bioinformatics']"
      ]
     },
     "execution_count": 47,
     "metadata": {},
     "output_type": "execute_result"
    }
   ],
   "source": [
    "myString.split()"
   ]
  },
  {
   "cell_type": "code",
   "execution_count": 48,
   "id": "bbcdc319",
   "metadata": {},
   "outputs": [
    {
     "data": {
      "text/plain": [
       "['my', 'name', 'is', 'bonnie', 'i', 'love', 'bioinformatics']"
      ]
     },
     "execution_count": 48,
     "metadata": {},
     "output_type": "execute_result"
    }
   ],
   "source": [
    "def cleanWord(word):\n",
    "    return word.replace('.', '').lower()\n",
    "\n",
    "[cleanWord(word) for word in myString.split()]"
   ]
  },
  {
   "cell_type": "code",
   "execution_count": 49,
   "id": "34281955",
   "metadata": {},
   "outputs": [
    {
     "data": {
      "text/plain": [
       "['my', 'is', 'i']"
      ]
     },
     "execution_count": 49,
     "metadata": {},
     "output_type": "execute_result"
    }
   ],
   "source": [
    "[cleanWord(word) for word in myString.split() if len(cleanWord(word)) < 3]"
   ]
  },
  {
   "cell_type": "markdown",
   "id": "fcdadece",
   "metadata": {},
   "source": [
    "### Nested list comprehensions"
   ]
  },
  {
   "cell_type": "code",
   "execution_count": null,
   "id": "08a10fed",
   "metadata": {},
   "outputs": [],
   "source": [
    "[[cleanWord(word) for word in sentence.split()] for sentence in myString.split('.')]"
   ]
  },
  {
   "cell_type": "markdown",
   "id": "c3eab788",
   "metadata": {},
   "source": [
    "### Lambda functions"
   ]
  },
  {
   "cell_type": "code",
   "execution_count": 50,
   "id": "ad51b61d",
   "metadata": {},
   "outputs": [
    {
     "data": {
      "text/plain": [
       "5"
      ]
     },
     "execution_count": 50,
     "metadata": {},
     "output_type": "execute_result"
    }
   ],
   "source": [
    "2 + 3"
   ]
  },
  {
   "cell_type": "code",
   "execution_count": 51,
   "id": "196620d8",
   "metadata": {},
   "outputs": [
    {
     "data": {
      "text/plain": [
       "5"
      ]
     },
     "execution_count": 51,
     "metadata": {},
     "output_type": "execute_result"
    }
   ],
   "source": [
    "(lambda x: x + 3)(2)"
   ]
  },
  {
   "cell_type": "code",
   "execution_count": 52,
   "id": "94ad7b40",
   "metadata": {},
   "outputs": [
    {
     "name": "stdout",
     "output_type": "stream",
     "text": [
      "[5, 6, 7]\n"
     ]
    }
   ],
   "source": [
    "# The map function will create a new list from processing each element of an iterable through a given function\n",
    "new_list = list(map(lambda x: x + 3, [2, 3, 4]))\n",
    "print(new_list)"
   ]
  },
  {
   "cell_type": "markdown",
   "id": "f6f00a47",
   "metadata": {},
   "source": [
    "### Extra Practice"
   ]
  },
  {
   "cell_type": "markdown",
   "id": "ce28a4d0",
   "metadata": {},
   "source": [
    "Translate sequence(s) from the command line into their iupac code.\n",
    "\n",
    "```\n",
    "+------------+------+\n",
    "| IUPAC code | Base |\n",
    "|------------+------|\n",
    "| A          | A    |\n",
    "| C          | C    |\n",
    "| G          | G    |\n",
    "| T          | T    |\n",
    "| U          | U    |\n",
    "| R          | AG   |\n",
    "| Y          | CT   |\n",
    "| S          | GC   |\n",
    "| W          | AT   |\n",
    "| K          | GT   |\n",
    "| M          | AC   |\n",
    "| B          | CGT  |\n",
    "| D          | AGT  |\n",
    "| H          | ACT  |\n",
    "| V          | ACG  |\n",
    "| N          | ACGT |\n",
    "+------------+------+\n",
    "```\n"
   ]
  },
  {
   "cell_type": "markdown",
   "id": "0761df4e",
   "metadata": {},
   "source": [
    "For each input sequence, the program should print the sequence, a space, and the regular expression for that sequence:\n",
    "\n",
    "```\n",
    "$ ./iupac.py MCG GWC\n",
    "MCG [AC]CG\n",
    "GWC G[AT]C\n",
    "```\n",
    "\n",
    "or\n",
    "\n",
    "```\n",
    "$ ./iupac.py KCM BDA -o out.txt\n",
    "Done, see output in \"out.txt\"\n",
    "```\n",
    "\n",
    "The preceding command should have created an file called _out.txt_ that has the following contents:\n",
    "\n",
    "```\n",
    "$ cat out.txt\n",
    "KCM [GT]C[AC]\n",
    "BDA [CGT][AGT]A\n",
    "```\n"
   ]
  },
  {
   "cell_type": "code",
   "execution_count": null,
   "id": "3feb466a",
   "metadata": {},
   "outputs": [],
   "source": [
    "# set up argparse to write to stdout by default, or an outfile\n",
    "import argparse\n",
    "import sys\n",
    "\n",
    "parser.add_argument(\n",
    "    \"-o\",\n",
    "    \"--outfile\",\n",
    "    help=\"Output filename\",\n",
    "    metavar=\"FILE\",\n",
    "    type=argparse.FileType(\"wt\"),\n",
    "    default=sys.stdout,\n",
    ")\n"
   ]
  },
  {
   "cell_type": "code",
   "execution_count": 53,
   "id": "147f362a",
   "metadata": {},
   "outputs": [
    {
     "data": {
      "text/plain": [
       "<re.Match object; span=(0, 3), match='ACG'>"
      ]
     },
     "execution_count": 53,
     "metadata": {},
     "output_type": "execute_result"
    }
   ],
   "source": [
    "import re\n",
    "re.search('^A[CT]G$', 'ACG')"
   ]
  },
  {
   "cell_type": "code",
   "execution_count": 55,
   "id": "4a9ed6c8",
   "metadata": {},
   "outputs": [
    {
     "data": {
      "text/plain": [
       "'NO'"
      ]
     },
     "execution_count": 55,
     "metadata": {},
     "output_type": "execute_result"
    }
   ],
   "source": [
    "import re\n",
    "'OK' if re.search('^A[CT]G$', 'AGG') else 'NO'"
   ]
  },
  {
   "cell_type": "code",
   "execution_count": 56,
   "id": "808059ac",
   "metadata": {},
   "outputs": [
    {
     "name": "stdout",
     "output_type": "stream",
     "text": [
      "Tuesday Wednesday Thursday \n"
     ]
    }
   ],
   "source": [
    "days = {\n",
    "    \"M\": \"Monday\",\n",
    "    \"T\": \"Tuesday\",\n",
    "    \"W\": \"Wednesday\",\n",
    "    \"R\": \"Thursday\",\n",
    "    \"F\": \"Friday\",\n",
    "    \"S\": \"Saturday\",\n",
    "    \"U\": \"Sunday\",\n",
    "}\n",
    "\n",
    "days_with_classes = 'TWR'\n",
    "\n",
    "regex = \"\"\n",
    "for day in days_with_classes:\n",
    "    regex += days.get(day, day) + \" \"\n",
    "print(f\"{regex}\")\n"
   ]
  },
  {
   "cell_type": "code",
   "execution_count": 57,
   "id": "ab4185ac",
   "metadata": {},
   "outputs": [
    {
     "name": "stdout",
     "output_type": "stream",
     "text": [
      "Bonnie: T W R \n",
      "Syndey: M T F \n"
     ]
    }
   ],
   "source": [
    "days_with_classes = {\n",
    "    \"Bonnie\": \"TWR\",\n",
    "    \"Syndey\": \"MTF\",\n",
    "}\n",
    "\n",
    "for person, days in days_with_classes.items():\n",
    "    regex = \"\"\n",
    "    for day in days:\n",
    "        regex += days_with_classes.get(day, day) + \" \"\n",
    "    print(f\"{person}: {regex}\")"
   ]
  }
 ],
 "metadata": {
  "kernelspec": {
   "display_name": "Python 3 (ipykernel)",
   "language": "python",
   "name": "python3"
  },
  "language_info": {
   "codemirror_mode": {
    "name": "ipython",
    "version": 3
   },
   "file_extension": ".py",
   "mimetype": "text/x-python",
   "name": "python",
   "nbconvert_exporter": "python",
   "pygments_lexer": "ipython3",
   "version": "3.9.6"
  }
 },
 "nbformat": 4,
 "nbformat_minor": 5
}
