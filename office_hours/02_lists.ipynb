{
 "cells": [
  {
   "cell_type": "markdown",
   "id": "aec5c7a9",
   "metadata": {},
   "source": [
    "## Lists"
   ]
  },
  {
   "cell_type": "markdown",
   "id": "6b95c52f",
   "metadata": {},
   "source": [
    "### List Slicing"
   ]
  },
  {
   "cell_type": "code",
   "execution_count": null,
   "id": "f3869ca7",
   "metadata": {},
   "outputs": [],
   "source": [
    "# create a list, get the items from position 3 onwards: 0,1,2,3\n",
    "myList = [1,2,3,4,5]\n",
    "myList[2:]"
   ]
  },
  {
   "cell_type": "code",
   "execution_count": null,
   "id": "e6fef4b7",
   "metadata": {},
   "outputs": [],
   "source": [
    "# get items 0 - 6, increment by 2\n",
    "myList[0:6:2]"
   ]
  },
  {
   "cell_type": "code",
   "execution_count": null,
   "id": "6d587461",
   "metadata": {},
   "outputs": [],
   "source": [
    "# get items 0 - 6, increment by 3\n",
    "myList[0:6:3]"
   ]
  },
  {
   "cell_type": "code",
   "execution_count": null,
   "id": "3103c64d",
   "metadata": {},
   "outputs": [],
   "source": [
    "# No idea how many items are in a list, no problem! increment by 2\n",
    "myList[::2]"
   ]
  },
  {
   "cell_type": "markdown",
   "id": "8841d547",
   "metadata": {},
   "source": [
    "### Adding to a list using range"
   ]
  },
  {
   "cell_type": "code",
   "execution_count": null,
   "id": "3dc127d5",
   "metadata": {},
   "outputs": [],
   "source": [
    "# print a range 0 to 9\n",
    "for i in range(10):\n",
    "    print(i)"
   ]
  },
  {
   "cell_type": "code",
   "execution_count": null,
   "id": "57f1b769",
   "metadata": {},
   "outputs": [],
   "source": [
    "# put the range into a list\n",
    "myList = list(range(10))"
   ]
  },
  {
   "cell_type": "code",
   "execution_count": null,
   "id": "6b968843",
   "metadata": {},
   "outputs": [],
   "source": [
    "# now count by 2's\n",
    "myList[::2]"
   ]
  },
  {
   "cell_type": "code",
   "execution_count": null,
   "id": "d6b81548",
   "metadata": {},
   "outputs": [],
   "source": [
    "# count backwards by 2, notice that your list is from 0 to 9\n",
    "myList[::-2]"
   ]
  },
  {
   "cell_type": "markdown",
   "id": "d138451b",
   "metadata": {},
   "source": [
    "### Modifying Lists"
   ]
  },
  {
   "cell_type": "code",
   "execution_count": null,
   "id": "5c065aff",
   "metadata": {},
   "outputs": [],
   "source": [
    "# we can add an item to a list\n",
    "myList = [1,2,3,4]\n",
    "myList.append(5)\n",
    "print(myList)"
   ]
  },
  {
   "cell_type": "code",
   "execution_count": null,
   "id": "93e06c86",
   "metadata": {},
   "outputs": [],
   "source": [
    "# lists can accept either numbers or strings\n",
    "# insert a new value at position 3\n",
    "myList.insert(3, 'a new value')\n",
    "print(myList)"
   ]
  },
  {
   "cell_type": "code",
   "execution_count": null,
   "id": "860ff53b",
   "metadata": {},
   "outputs": [],
   "source": [
    "# Let's remove that value now\n",
    "myList.remove('a new value')\n",
    "myList"
   ]
  },
  {
   "cell_type": "code",
   "execution_count": null,
   "id": "c57f7a9c",
   "metadata": {},
   "outputs": [],
   "source": [
    "# Let's double check that we truly removed the item 'a new value'. It should be False.\n",
    "'a new value' in myList"
   ]
  },
  {
   "cell_type": "code",
   "execution_count": null,
   "id": "989cd677",
   "metadata": {},
   "outputs": [],
   "source": [
    "3 in myList"
   ]
  },
  {
   "cell_type": "markdown",
   "id": "3f403f85",
   "metadata": {},
   "source": [
    "### Adding multiple items to a list"
   ]
  },
  {
   "cell_type": "code",
   "execution_count": null,
   "id": "577d349e",
   "metadata": {},
   "outputs": [],
   "source": [
    "# Can we add multiple items with append? No! Append only accepts one item at a time.\n",
    "myList.append(6, 7)"
   ]
  },
  {
   "cell_type": "code",
   "execution_count": null,
   "id": "56564595",
   "metadata": {},
   "outputs": [],
   "source": [
    "# What if we put multiple items into brackets? It worked! But did it??\n",
    "myList.append([6, 7])"
   ]
  },
  {
   "cell_type": "code",
   "execution_count": null,
   "id": "4e8b1474",
   "metadata": {},
   "outputs": [],
   "source": [
    "# oh no! I clearly did that wrong! I have a list inside my list\n",
    "myList"
   ]
  },
  {
   "cell_type": "code",
   "execution_count": null,
   "id": "d5a8f0cd",
   "metadata": {},
   "outputs": [],
   "source": [
    "# Let's remove that last item with the pop command.\n",
    "myList.pop()\n",
    "myList"
   ]
  },
  {
   "cell_type": "code",
   "execution_count": null,
   "id": "7d51f9c9",
   "metadata": {},
   "outputs": [],
   "source": [
    "# Let's try again using extend. No! I get an error, extend takes one item at a time too!\n",
    "myList.extend(6, 7)\n"
   ]
  },
  {
   "cell_type": "code",
   "execution_count": null,
   "id": "2a2b1092",
   "metadata": {},
   "outputs": [],
   "source": [
    "# What about adding extra brackets? We did it! So, we can use extend, we just need the brackets []\n",
    "myList.extend([6, 7])\n",
    "myList"
   ]
  },
  {
   "cell_type": "markdown",
   "id": "bc851947",
   "metadata": {},
   "source": [
    "### Adding and Removing items from a list"
   ]
  },
  {
   "cell_type": "code",
   "execution_count": null,
   "id": "2356b2a6",
   "metadata": {},
   "outputs": [],
   "source": [
    "# Check this out! We can watch as out list gets smaller and smaller, \n",
    "# we can use pop to remove the last item in our list until we reach 0 items\n",
    "while len(myList):\n",
    "    print(myList.pop())"
   ]
  },
  {
   "cell_type": "code",
   "execution_count": null,
   "id": "5ddad205",
   "metadata": {},
   "outputs": [],
   "source": [
    "# Oh no! I deleted all items from my list with pop.\n",
    "myList"
   ]
  },
  {
   "cell_type": "code",
   "execution_count": null,
   "id": "18b64aaa",
   "metadata": {},
   "outputs": [],
   "source": [
    "# Let's add some numbers back in our list (0-9).\n",
    "for i in range(10):\n",
    "    myList.append(i)\n",
    "myList"
   ]
  },
  {
   "cell_type": "code",
   "execution_count": null,
   "id": "ae85dfe0",
   "metadata": {},
   "outputs": [],
   "source": [
    "# Can we add an item to particular position in a list? Let's try that...\n",
    "myList[1] = 0.5\n",
    "myList"
   ]
  },
  {
   "cell_type": "markdown",
   "id": "6a5e3398",
   "metadata": {},
   "source": [
    "Yikes! Lists are mutable, meaning that I can change them, and I just changed \"1\" to \"0.5\" by mistake, rather than adding 0.5.\n",
    "What if i want to add \"1\" back in?"
   ]
  },
  {
   "cell_type": "code",
   "execution_count": null,
   "id": "ab05da45",
   "metadata": {},
   "outputs": [],
   "source": [
    "# Add an item at a particular location\n",
    "# I want to add the number 1 after 0.5\n",
    "# 0.5 is currently at postion 1\n",
    "# so, I will add 1 at position 2\n",
    "# insert(position, item)\n",
    "myList.insert(2, 1)\n",
    "myList"
   ]
  },
  {
   "cell_type": "markdown",
   "id": "94a30a23",
   "metadata": {},
   "source": [
    "### Sorting and reversing lists"
   ]
  },
  {
   "cell_type": "code",
   "execution_count": null,
   "id": "c6908d85",
   "metadata": {},
   "outputs": [],
   "source": [
    "# Let's reverse our list\n",
    "myList.reverse()\n",
    "myList"
   ]
  },
  {
   "cell_type": "code",
   "execution_count": null,
   "id": "926fde41",
   "metadata": {},
   "outputs": [],
   "source": [
    "# notice that we actually changed the list to now be in reverse order\n",
    "myList"
   ]
  },
  {
   "cell_type": "code",
   "execution_count": null,
   "id": "0a28adfe",
   "metadata": {},
   "outputs": [],
   "source": [
    "# Let's switch that back, using sort, and then look at some other options for NOT modifying the list\n",
    "myList.sort()\n",
    "myList"
   ]
  },
  {
   "cell_type": "code",
   "execution_count": null,
   "id": "8a1dcf42",
   "metadata": {},
   "outputs": [],
   "source": [
    "# sorted(myList) and reversed(myList) functions don't actually change the list.\n",
    "# Let's try it.\n",
    "# reverse the list again\n",
    "myList.reverse()\n",
    "myList"
   ]
  },
  {
   "cell_type": "code",
   "execution_count": null,
   "id": "704c70d9",
   "metadata": {},
   "outputs": [],
   "source": [
    "# does sorted(myList) change the list? No! it doesn't\n",
    "print(sorted(myList))\n",
    "myList"
   ]
  },
  {
   "cell_type": "code",
   "execution_count": null,
   "id": "e40cfb5b",
   "metadata": {},
   "outputs": [],
   "source": [
    "# what about myList.sort(). Yes, it does change the list.\n",
    "myList.sort()\n",
    "myList"
   ]
  },
  {
   "cell_type": "code",
   "execution_count": null,
   "id": "fd7a4af6",
   "metadata": {},
   "outputs": [],
   "source": [
    "# Be careful of \n",
    "# reversed(myList) is a lazy function, which means python thinks this might take a while\n",
    "# It creates an interator object instead \n",
    "reversed(myList)"
   ]
  },
  {
   "cell_type": "code",
   "execution_count": null,
   "id": "1b3da94c",
   "metadata": {},
   "outputs": [],
   "source": [
    "# you can see it by using the list function\n",
    "list(reversed(myList))"
   ]
  },
  {
   "cell_type": "code",
   "execution_count": null,
   "id": "ca3e8f86",
   "metadata": {},
   "outputs": [],
   "source": [
    "myList"
   ]
  },
  {
   "cell_type": "markdown",
   "id": "7ba85735",
   "metadata": {},
   "source": [
    "# Copying lists"
   ]
  },
  {
   "cell_type": "code",
   "execution_count": null,
   "id": "501f1468",
   "metadata": {},
   "outputs": [],
   "source": [
    "# You can copy lists\n",
    "# But notice that doing something to one list, also changes the other!\n",
    "a = [1,2,3,4,5]\n",
    "b = a\n",
    "a.append(6)\n",
    "print(b)"
   ]
  },
  {
   "cell_type": "code",
   "execution_count": null,
   "id": "89a368d1",
   "metadata": {},
   "outputs": [],
   "source": [
    "# You need to use the copy() function instead\n",
    "a = [1,2,3,4,5]\n",
    "b = a.copy()\n",
    "a.append(6)\n",
    "print(a)\n",
    "print(b)"
   ]
  },
  {
   "cell_type": "markdown",
   "id": "b8cf4073",
   "metadata": {},
   "source": [
    "### Hints on the extra practice\n",
    "\n",
    "Hint 1:\n",
    "\n",
    "Be sure to use argparse to your advantage! Check to make sure the user is passing in an integer to sum.py\n",
    "\n",
    "* use \"type=int\" when defining your postional argument\n"
   ]
  },
  {
   "cell_type": "code",
   "execution_count": null,
   "id": "07868576",
   "metadata": {},
   "outputs": [],
   "source": [
    "# Hint 2\n",
    "# remember that you can't mix data types and print an integer with a string\n",
    "# For example, if I create a list of integers\n",
    "# \"1 + 2 = 3\"\n",
    "myList = []\n",
    "for i in range(5):\n",
    "    myList.append(i)\n",
    "myList\n",
    "\n",
    "# I can't print those integers with the string \"+\"\n",
    "to_print = \" + \".join(myList)\n",
    "print(to_print)"
   ]
  },
  {
   "cell_type": "code",
   "execution_count": null,
   "id": "30a26562",
   "metadata": {},
   "outputs": [],
   "source": [
    "# But...if you convert it to a string before putting it in the list, you can print it.\n",
    "myList = []\n",
    "for i in range(5):\n",
    "    myList.append(str(i))\n",
    "myList\n",
    "\n",
    "to_print = \" + \".join(myList)\n",
    "print(to_print)"
   ]
  },
  {
   "cell_type": "code",
   "execution_count": null,
   "id": "b9e3382c",
   "metadata": {},
   "outputs": [],
   "source": [
    "# adding strings vs numbers\n",
    "total = 0\n",
    "for i in range(5):\n",
    "    total+=i\n",
    "    print(total)\n"
   ]
  },
  {
   "cell_type": "code",
   "execution_count": null,
   "id": "96194f83",
   "metadata": {},
   "outputs": [],
   "source": [
    "# sum integers, not strings\n",
    "total = 0\n",
    "for i in range(5):\n",
    "    total+=str(i)\n",
    "    print(total)"
   ]
  },
  {
   "cell_type": "code",
   "execution_count": null,
   "id": "9b705239",
   "metadata": {},
   "outputs": [],
   "source": [
    "# But, if total is a string, you can add string together\n",
    "# main point, be careful of your data types and use them as intended.\n",
    "total = \"\"\n",
    "for i in range(5):\n",
    "    total+=str(i)\n",
    "    print(total)"
   ]
  }
 ],
 "metadata": {
  "kernelspec": {
   "display_name": "Python 3 (ipykernel)",
   "language": "python",
   "name": "python3"
  },
  "language_info": {
   "codemirror_mode": {
    "name": "ipython",
    "version": 3
   },
   "file_extension": ".py",
   "mimetype": "text/x-python",
   "name": "python",
   "nbconvert_exporter": "python",
   "pygments_lexer": "ipython3",
   "version": "3.9.6"
  }
 },
 "nbformat": 4,
 "nbformat_minor": 5
}
