{
 "cells": [
  {
   "cell_type": "markdown",
   "metadata": {},
   "source": [
    "# Project 2: Substitution Cipher\n",
    "\n",
    "For this project, we'll write a program to implement a Substitution Cipher, that creates a substitution table by randomly scambling the alphabet."
   ]
  },
  {
   "cell_type": "code",
   "execution_count": null,
   "metadata": {},
   "outputs": [],
   "source": [
    "# Run this cell to make sure this assignment is up to date\n",
    "%cd ~/be434-Spring2025\n",
    "!git pull --no-edit upstream main"
   ]
  },
  {
   "cell_type": "markdown",
   "metadata": {},
   "source": [
    "## Getting Started with new.py\n",
    "\n",
    "Let's start out by using new.py to create a program template for us.\n"
   ]
  },
  {
   "cell_type": "code",
   "execution_count": null,
   "metadata": {},
   "outputs": [],
   "source": [
    "# Generate the `substitution.py` using `new.py`\n",
    "%cd ~/be434-Spring2024/project/02_substitution\n",
    "!../../bin/new.py -p 'substitution cipher' substitution.py"
   ]
  },
  {
   "cell_type": "markdown",
   "metadata": {},
   "source": [
    "You should see the following:\n",
    "\n",
    "```\n",
    "$ new.py -p 'substitution cipher' substitution.py\n",
    "Done, see new script \"substitution.py.\"\n",
    "```"
   ]
  },
  {
   "cell_type": "markdown",
   "metadata": {},
   "source": [
    "## Instructions\n",
    "\n",
    "## Usage and Arguments\n",
    "\n",
    "## Program Description\n",
    "\n",
    "The Caesar Shift wasn't a great secret code; for one thing, there are only a few different possibilities (only as many letters as you have in your alphabet).\n",
    "\n",
    "We can make a code that is much harder to break by scrambling the alphabet completely instead of just shifting to one side.\n",
    "\n",
    "Define a substitution cipher by scrambling the entire alphabet.  Say, for example, `\"WJKUXVBMIYDTPLHZGONCRSAEFQ\"`.\n",
    "\n",
    "Then, imagine writing it out underneath the normal alphabet, in the normal order, like so:\n",
    "\n",
    "```\n",
    "ABCDEFGHIJKLMNOPQRSTUVWXYZ\n",
    "WJKUXVBMIYDTPLHZGONCRSAEFQ\n",
    "```\n",
    "\n",
    "To encode a message, replace each letter in the message with the matching letter in the cipher alphabet.  In this case, `\"HELLO\"` would be encoded as `\"MXTTH\"`, since M is directly under H, etc. To keep things simple, we will print the message back to the user in all uppercase letters. And you will need to simply print any characters that are not letters.\n",
    "\n",
    "Think back to the exercise `ransom`, and consider how you might create a function to randomly get a letter from the alphabet. But, be sure to choose the letter without replacement (or you might get letters that encode the same letter). Also, be sure to use a random seed so we can make the code reproducible and testable. You should also be able to re-use some of the code you wrote for substitution.py.\n",
    "\n",
    "## Usage\n",
    "\n",
    "The program should take the following arguments:\n",
    "\n",
    "* An input file as a positional argument\n",
    "* An optional `-s` or `--seed` argument for a random seed (default = 3)\n",
    "* An optional `-d` or `--decode` argument for decoding the file (default = False)\n",
    "* An optional output file `-o` or `--output ` argument (default = std.out)\n",
    "\n",
    "\n",
    "When run with no arguments, it should print a brief usage:\n",
    "\n",
    "```\n",
    "$ ./substitution.py\n",
    "usage: substitution.py [-h] [-s SEED] [-d] [-o FILE] FILE\n",
    "substitution.py: error: the following arguments are required: FILE\n",
    "```\n",
    "\n",
    "When run with the `-h` or `--help` flag, it should print a longer usage:\n",
    "\n",
    "```\n",
    "$ ./substitution.py  -h\n",
    "usage: substitution.py [-h] [-s SEED] [-d] [-o FILE] FILE\n",
    "\n",
    "substitution cipher\n",
    "\n",
    "positional arguments:\n",
    "  FILE                  Input file\n",
    "\n",
    "optional arguments:\n",
    "  -h, --help            show this help message and exit\n",
    "  -s SEED, --seed SEED  A random seed (default: 3)\n",
    "  -d, --decode          A boolean flag (default: False)\n",
    "  -o FILE, --outfile FILE Output file (default: std.out)\n",
    "```\n",
    "\n",
    "## Argument Validation\n",
    "\n",
    "The program should use `argparse` to validate the file argument and generate errors for a file that cannot be opened.\n",
    "For instance, _blargh_ in the following example represents a nonexistent file:\n",
    "\n",
    "```\n",
    "$ ./substitution.py blargh\n",
    "usage: substitution.py [-h] [-n] [-d] FILE\n",
    "substitution.py: error: argument FILE: can't open 'blargh':\n",
    "[Errno 2] No such file or directory: 'blargh'\n",
    "```\n",
    "\n",
    "## Output\n",
    "\n",
    "When run with a valid file, your program should print the lines of each file.\n",
    "For instance, the _inputs/hello.txt_ file has one line:\n",
    "\n",
    "```\n",
    "$ ./substitution.py -s 5 ./inputs/hello.txt\n",
    "OUVVDMDSVL\n",
    "```"
   ]
  },
  {
   "cell_type": "markdown",
   "metadata": {},
   "source": [
    "## Time to write some code!\n",
    "\n",
    "Open the script in VSCode through the HPC app to edit the code. Write the code to match the instructions above. Note that you must follow the instructions exactly (including all spaces and punctuation!)"
   ]
  },
  {
   "cell_type": "markdown",
   "metadata": {},
   "source": [
    "## Testing\n",
    "\n",
    "As you write your code, you can test it along the way to make sure that you are passing all of the tests for the homework. \n",
    "\n",
    "We will use the test suite that is included with the assignment to test that you are meeting all of the requirements in the instructions above.\n",
    "\n",
    "You will find the steps below to test your code. Note that you can run these commands from a \"shell\" within the VS Code GUI. Or, you can run them here... "
   ]
  },
  {
   "cell_type": "code",
   "execution_count": null,
   "metadata": {},
   "outputs": [],
   "source": [
    "# Format your code to make it beautiful (this is called linting)\n",
    "%cd ~/be434-Spring2025/project/02_substitution\n",
    "!apptainer run /xdisk/bhurwitz/bh_class/biosystems/biosystems.sif black substitution.py"
   ]
  },
  {
   "cell_type": "code",
   "execution_count": null,
   "metadata": {},
   "outputs": [],
   "source": [
    "# Now run the tests on your code\n",
    "%cd ~/be434-Spring2025/project/02_substitution\n",
    "!apptainer run /xdisk/bhurwitz/bh_class/biosystems/biosystems.sif make test"
   ]
  },
  {
   "cell_type": "markdown",
   "metadata": {},
   "source": [
    "## Testing\n",
    "\n",
    "The program should pass all tests:\n",
    "\n",
    "```\n",
    "$ make test\n",
    "pytest -xv test.py\n",
    "```\n",
    "\n",
    "Your grade is whatever percentage of tests your code passes."
   ]
  },
  {
   "cell_type": "markdown",
   "metadata": {},
   "source": [
    "## Uploading your code to GitHub\n",
    "\n",
    "Once you have written the code for your assignment, and are passing all of the tests above, you are ready to submit the assignment for grading. Use the steps below to submit your code to GitHub.\n",
    "\n",
    "* Note, if you are having any issues with passing tests, and need help, you can also submit the code with a different commit message like the following. \n",
    "\n",
    "```\n",
    "git commit -m \"help me!\"\n",
    "```\n",
    "\n",
    "Once you have done that, send a private slack message to me @bhurwitz to let me know you submitted code and need help.\n"
   ]
  },
  {
   "cell_type": "code",
   "execution_count": null,
   "metadata": {},
   "outputs": [],
   "source": [
    "# Submit your code to Github\n",
    "%cd\n",
    "%cd be434-Spring2025\n",
    "!git add -A && git commit -m \"Submitting 02_substitution for grading\"\n",
    "!git push"
   ]
  },
  {
   "cell_type": "markdown",
   "metadata": {},
   "source": [
    "Great job! You are done with this assignment.\n",
    "\n",
    "## Authors\n",
    "\n",
    "Bonnie Hurwitz <bhurwitz@arizona.edu>"
   ]
  }
 ],
 "metadata": {
  "kernelspec": {
   "display_name": "Python 3 (ipykernel)",
   "language": "python",
   "name": "python3"
  },
  "language_info": {
   "codemirror_mode": {
    "name": "ipython",
    "version": 3
   },
   "file_extension": ".py",
   "mimetype": "text/x-python",
   "name": "python",
   "nbconvert_exporter": "python",
   "pygments_lexer": "ipython3",
   "version": "3.9.6"
  }
 },
 "nbformat": 4,
 "nbformat_minor": 5
}
