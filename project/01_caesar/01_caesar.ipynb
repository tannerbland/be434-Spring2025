{
 "cells": [
  {
   "cell_type": "markdown",
   "metadata": {},
   "source": [
    "# Project 01: Caesar Shift\n",
    "\n",
    "For this project, we'll write a program to implement the Caesar Shift, one of the earliest known secret codes. To encode using a Caesar Shift, you shift each letter in your message to the right a certain number of spaces in the alphabet."
   ]
  },
  {
   "cell_type": "code",
   "execution_count": null,
   "metadata": {},
   "outputs": [],
   "source": [
    "# Run this cell to make sure this assignment is up to date\n",
    "%cd ~/be434-Spring2025\n",
    "!git pull --no-edit upstream main"
   ]
  },
  {
   "cell_type": "markdown",
   "metadata": {},
   "source": [
    "## Getting Started with new.py\n",
    "\n",
    "Let's start out by using new.py to create a program template for us.\n"
   ]
  },
  {
   "cell_type": "code",
   "execution_count": null,
   "metadata": {},
   "outputs": [],
   "source": [
    "# Generate the `caesar.py` using `new.py`\n",
    "%cd ~/be434-Spring2024/project/01_caesar\n",
    "!../../bin/new.py -p 'caesar shift' caesar.py"
   ]
  },
  {
   "cell_type": "markdown",
   "metadata": {},
   "source": [
    "You should see the following:\n",
    "\n",
    "```\n",
    "$ new.py -p 'caesar shift' caesar.py\n",
    "Done, see new script \"caesar.py.\"\n",
    "```"
   ]
  },
  {
   "cell_type": "markdown",
   "metadata": {},
   "source": [
    "## Instructions\n",
    "\n",
    "### Usage and Arguments\n",
    "\n",
    "## Program Description\n",
    "\n",
    "Write a Python program called `caesar.py` to encode or decode a secret message from a file using the Caesar Shift. Specifically, if the user provides the option `--number 3` take `\"H\"` - start there and count three more letters in the alphabet, `\"I\"`, `\"J\"`, `\"K\"`.  So `\"H\"` becomes `\"K\"`. To keep things simple, we will print the message back to the user in all uppercase. However, you will need to encode only the letters and leave all of the rest of the text alone.\n",
    "\n",
    "Think back to the exercise called \"jump_the_five\". Can you create a substitution table on the fly based on the `--number` the user provides (or the default = 3)? Be sure to do this for both encoding and decoding the caesar shift and provide the correct dictionary based on the `--decode` option. Note, this can get a little tricky at the end of the alphabet, how might you do this?\n",
    "\n",
    "Here is an example alphabet string you can use:\n",
    "\n",
    "```\n",
    "alpha = \"ABCDEFGHIJKLMNOPQRSTUVWXYZ\"\n",
    "```\n",
    "\n",
    "Here is an example substitution table for --number 3:\n",
    "\n",
    "```\n",
    "A => D\n",
    "B => E\n",
    "C => F\n",
    "D => G\n",
    "...\n",
    "```\n",
    "\n",
    "## Usage\n",
    "\n",
    "The program should take the following arguments:\n",
    "\n",
    "* An input file as a positional argument\n",
    "* An optional `-n` or `--number` argument for the number of positions to shift (default = 3)\n",
    "* An optional `-d` or `--decode` argument for decoding the file (default = False)\n",
    "* An optional output file `-o` or `--output ` argument (default = std.out)\n",
    "\n",
    "When run with no arguments, it should print a brief usage:\n",
    "\n",
    "```\n",
    "$ ./caesar.py\n",
    "usage: caesar.py [-h] [-n NUMBER] [-d] [-o FILE] FILE\n",
    "caesar.py: error: the following arguments are required: FILE\n",
    "```\n",
    "\n",
    "When run with the `-h` or `--help` flag, it should print a longer usage:\n",
    "\n",
    "```\n",
    "usage: caesar.py [-h] [-n NUMBER] [-d] [-o FILE] FILE\n",
    "\n",
    "caesar shift\n",
    "\n",
    "positional arguments:\n",
    "  FILE                  Input file\n",
    "\n",
    "optional arguments:\n",
    "  -h, --help            show this help message and exit\n",
    "  -n NUMBER, --number NUMBER\n",
    "                        A number to shift (default: 3)\n",
    "  -d, --decode          A boolean flag (default: False)\n",
    "  -o FILE, --outfile FILE\n",
    "                        Output file (default: std.out)\n",
    "```\n",
    "\n",
    "## Argument Validation\n",
    "\n",
    "The program should use `argparse` to validate the file argument and generate errors for a file that cannot be opened.\n",
    "For instance, _blargh_ in the following example represents a nonexistent file:\n",
    "\n",
    "```\n",
    "$ ./caesar.py blargh\n",
    "usage: caesar.py [-h] [-n] [-d] FILE\n",
    "caesar.py: error: argument FILE: can't open 'blargh':\n",
    "[Errno 2] No such file or directory: 'blargh'\n",
    "```\n",
    "\n",
    "## Output\n",
    "\n",
    "When run with a valid file, your program should print the lines of each file.\n",
    "For instance, the _inputs/hello.txt_ file has one line:\n",
    "\n",
    "```\n",
    "$ ./caesar.py -n 5 ./inputs/hello.txt\n",
    "MJQQTBTWQI\n",
    "```"
   ]
  },
  {
   "cell_type": "markdown",
   "metadata": {},
   "source": [
    "## Time to write some code!\n",
    "\n",
    "Open the script in VSCode through the HPC app to edit the code. Write the code to match the instructions above. Note that you must follow the instructions exactly (including all spaces and punctuation!)"
   ]
  },
  {
   "cell_type": "markdown",
   "metadata": {},
   "source": [
    "## Testing\n",
    "\n",
    "As you write your code, you can test it along the way to make sure that you are passing all of the tests for the homework. \n",
    "\n",
    "We will use the test suite that is included with the assignment to test that you are meeting all of the requirements in the instructions above.\n",
    "\n",
    "You will find the steps below to test your code. Note that you can run these commands from a \"shell\" within the VS Code GUI. Or, you can run them here... "
   ]
  },
  {
   "cell_type": "code",
   "execution_count": null,
   "metadata": {},
   "outputs": [],
   "source": [
    "# Format your code to make it beautiful (this is called linting)\n",
    "%cd ~/be434-Spring2025/project/01_caesar\n",
    "!apptainer run /xdisk/bhurwitz/bh_class/biosystems/biosystems.sif black caesar.py"
   ]
  },
  {
   "cell_type": "code",
   "execution_count": null,
   "metadata": {},
   "outputs": [],
   "source": [
    "# Now run the tests on your code\n",
    "%cd ~/be434-Spring2025/project/01_caesar\n",
    "!apptainer run /xdisk/bhurwitz/bh_class/biosystems/biosystems.sif make test"
   ]
  },
  {
   "cell_type": "markdown",
   "metadata": {},
   "source": [
    "## Testing\n",
    "\n",
    "The program should pass all tests:\n",
    "\n",
    "```\n",
    "$ make test\n",
    "pytest -xv test.py\n",
    "```\n",
    "\n",
    "Your grade is whatever percentage of tests your code passes."
   ]
  },
  {
   "cell_type": "markdown",
   "metadata": {},
   "source": [
    "## Uploading your code to GitHub\n",
    "\n",
    "Once you have written the code for your assignment, and are passing all of the tests above, you are ready to submit the assignment for grading. Use the steps below to submit your code to GitHub.\n",
    "\n",
    "* Note, if you are having any issues with passing tests, and need help, you can also submit the code with a different commit message like the following. \n",
    "\n",
    "```\n",
    "git commit -m \"help me!\"\n",
    "```\n",
    "\n",
    "Once you have done that, send a private slack message to me @bhurwitz to let me know you submitted code and need help.\n"
   ]
  },
  {
   "cell_type": "code",
   "execution_count": null,
   "metadata": {},
   "outputs": [],
   "source": [
    "# Submit your code to Github\n",
    "%cd\n",
    "%cd be434-Spring2025\n",
    "!git add -A && git commit -m \"Submitting 01_caesar for grading\"\n",
    "!git push"
   ]
  },
  {
   "cell_type": "markdown",
   "metadata": {},
   "source": [
    "Great job! You are done with this assignment.\n",
    "\n",
    "## Authors\n",
    "\n",
    "Bonnie Hurwitz <bhurwitz@arizona.edu> "
   ]
  }
 ],
 "metadata": {
  "kernelspec": {
   "display_name": "Python 3 (ipykernel)",
   "language": "python",
   "name": "python3"
  },
  "language_info": {
   "codemirror_mode": {
    "name": "ipython",
    "version": 3
   },
   "file_extension": ".py",
   "mimetype": "text/x-python",
   "name": "python",
   "nbconvert_exporter": "python",
   "pygments_lexer": "ipython3",
   "version": "3.9.6"
  }
 },
 "nbformat": 4,
 "nbformat_minor": 5
}
