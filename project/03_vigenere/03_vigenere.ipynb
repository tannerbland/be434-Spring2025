{
 "cells": [
  {
   "cell_type": "markdown",
   "metadata": {},
   "source": [
    "# Project 3: Vigenere Ciphers\n",
    "\n",
    "For this exercise, we'll write a program to implement a Vigenere Cipher, that encrypts alphabetic text by using a series of interwoven Caesar ciphers, based on the letters of a keyword."
   ]
  },
  {
   "cell_type": "code",
   "execution_count": null,
   "metadata": {},
   "outputs": [],
   "source": [
    "# Run this cell to make sure this assignment is up to date\n",
    "%cd ~/be434-Spring2025\n",
    "!git pull --no-edit upstream main"
   ]
  },
  {
   "cell_type": "markdown",
   "metadata": {},
   "source": [
    "## Getting Started with new.py\n",
    "\n",
    "Let's start out by using new.py to create a program template for us.\n"
   ]
  },
  {
   "cell_type": "code",
   "execution_count": null,
   "metadata": {},
   "outputs": [],
   "source": [
    "# Generate the `vigenere.py` using `new.py`\n",
    "%cd ~/be434-Spring2024/project/03_vigenere\n",
    "!../../bin/new.py -p 'vigenere cipher' vigenere.py"
   ]
  },
  {
   "cell_type": "markdown",
   "metadata": {},
   "source": [
    "You should see the following:\n",
    "\n",
    "```\n",
    "$ new.py -p 'vigenere cipher' vigenere.py\n",
    "Done, see new script \"vigenere.py.\"\n",
    "```"
   ]
  },
  {
   "cell_type": "markdown",
   "metadata": {},
   "source": [
    "## Instructions\n",
    "\n",
    "### Usage and Arguments\n",
    "\n",
    "### Program Description\n",
    "\n",
    "It turns out that the Substitution Cipher wasn't a great cipher either; in fact, most newspapers carry a daily puzzle about solving a vigenere cipher.  Anything that someone can figure out for fun in an afternoon is not a very secure secret code!\n",
    "\n",
    "In 1553, a new way of writing secret codes became the new state of the art and stayed that way for centuries.  For about 300 years, there was a secret code called \"le chiffre indechiffrable\" (the indecipherable cipher) - the Vigenere Cipher.  It wasn't cracked until mathematicians began to study it in the mid-1800s, applying sophisticated statistical analysis tools.\n",
    "\n",
    "Here's how the Vigenere Cipher works.  First, pick a key word; let's say \"TEST\".  Then, pick a message you want to encode; let's say \"THEQUICKBROWNFOXJUMPEDOVERTHELAZYDOG\".  Imagine writing out the message, and then writing the key word over and over underneath it.  Like this:\n",
    "\n",
    "```\n",
    "THEQUICKBROWNFOXJUMPEDOVERTHELAZYDOG\n",
    "TESTTESTTESTTESTTESTTESTTESTTESTTEST\n",
    "```\n",
    "\n",
    "To encode the message, go column by column.  Take the two letters in each column and convert them to indices in the alphabet (like Python does, starting with \"A\" = 0).  Add the two numbers together.  Then, wrapping around if necessary, convert back to a letter.\n",
    "\n",
    "For example, the first column contains \"T\" and another \"T\".  In a zero-indexed alphabet, \"T\" is index 19.  So, the first colum becomes 19 + 19 = 38.  There are only 26 letters in the alphabet, so imagine counting 0 to 25 and then starting over at the beginning again, where 26 goes back to A.  Counting to 38 ends on M.  (Another way to think about this is that 38 - 26 = 12, and the letter at index 12 is M.)  So, the first column is encoded to the letter M.\n",
    "\n",
    "The second column is H + E, or 7 + 4, or 11, or L.\n",
    "\n",
    "In total, the full message encodes this way:\n",
    "\n",
    "```\n",
    "THEQUICKBROWNFOXJUMPEDOVERTHELAZYDOG\n",
    "TESTTESTTESTTESTTESTTESTTESTTESTTEST\n",
    "------------------------------------\n",
    "MLWJNMUDUVGPGJGQCYEIXHGOXVLAXPSSRHGZ\n",
    "```\n",
    "\n",
    "### Usage\n",
    "\n",
    "The program should take the following arguments:\n",
    "\n",
    "* An input file as a positional argument\n",
    "* An optional `-k` or `--keyword` argument for a keyword (default = CIPHER)\n",
    "* An optional `-d` or `--decode` argument for decoding the file (default = False)\n",
    "* An optional output file `-o` or `--output ` argument (default = std.out)\n",
    "\n",
    "When run with no arguments, it should print a brief usage:\n",
    "\n",
    "```\n",
    "$ ./vigenere.py\n",
    "usage: vigenere.py [-h] [-k KEYWORD] [-d] [-o FILE] FILE\n",
    "vigenere.py: error: the following arguments are required: FILE\n",
    "```\n",
    "\n",
    "When run with the `-h` or `--help` flag, it should print a longer usage:\n",
    "\n",
    "```\n",
    "$ ./vigenere.py -h\n",
    "usage: vigenere.py [-h] [-k KEYWORD] [-d] [-o FILE] FILE\n",
    "\n",
    "vigenere cipher\n",
    "\n",
    "positional arguments:\n",
    "  FILE                  Input file\n",
    "\n",
    "optional arguments:\n",
    "  -h, --help            show this help message and exit\n",
    "  -k KEYWORD, --keyword KEYWORD\n",
    "                        A keyword (default: CIPHER)\n",
    "  -d, --decode          A boolean flag (default: False)\n",
    "  -o FILE, --outfile FILE\n",
    "                        Output file (default: std.out)\n",
    "```\n",
    "\n",
    "### Argument Validation\n",
    "\n",
    "The program should use `argparse` to validate the file argument and generate errors for a file that cannot be opened.\n",
    "For instance, _blargh_ in the following example represents a nonexistent file:\n",
    "\n",
    "```\n",
    "$ ./vigenere.py blargh\n",
    "usage: vigenere.py [-h] [-n] [-d] FILE\n",
    "vigenere.py: error: argument FILE: can't open 'blargh':\n",
    "[Errno 2] No such file or directory: 'blargh'\n",
    "```\n",
    "\n",
    "### Output\n",
    "\n",
    "When run with a valid file, your program should print the lines of each file.\n",
    "For instance, the _inputs/hello.txt_ file has one line:\n",
    "\n",
    "```\n",
    "$ ./vigenere.py ./inputs/hello.txt\n",
    "\n",
    "```"
   ]
  },
  {
   "cell_type": "markdown",
   "metadata": {},
   "source": [
    "## Time to write some code!\n",
    "\n",
    "Open the script in VSCode through the HPC app to edit the code. Write the code to match the instructions above. Note that you must follow the instructions exactly (including all spaces and punctuation!)"
   ]
  },
  {
   "cell_type": "markdown",
   "metadata": {},
   "source": [
    "## Testing\n",
    "\n",
    "As you write your code, you can test it along the way to make sure that you are passing all of the tests for the homework. \n",
    "\n",
    "We will use the test suite that is included with the assignment to test that you are meeting all of the requirements in the instructions above.\n",
    "\n",
    "You will find the steps below to test your code. Note that you can run these commands from a \"shell\" within the VS Code GUI. Or, you can run them here... "
   ]
  },
  {
   "cell_type": "code",
   "execution_count": null,
   "metadata": {},
   "outputs": [],
   "source": [
    "# Format your code to make it beautiful (this is called linting)\n",
    "%cd ~/be434-Spring2025/project/03_vigenere\n",
    "!apptainer run /xdisk/bhurwitz/bh_class/biosystems/biosystems.sif black vigenere.py"
   ]
  },
  {
   "cell_type": "code",
   "execution_count": null,
   "metadata": {},
   "outputs": [],
   "source": [
    "# Now run the tests on your code\n",
    "%cd ~/be434-Spring2025/project/03_vigenere\n",
    "!apptainer run /xdisk/bhurwitz/bh_class/biosystems/biosystems.sif make test"
   ]
  },
  {
   "cell_type": "markdown",
   "metadata": {},
   "source": [
    "## Testing\n",
    "\n",
    "The program should pass all tests:\n",
    "\n",
    "```\n",
    "$ make test\n",
    "pytest -xv test.py\n",
    "```\n",
    "\n",
    "Your grade is whatever percentage of tests your code passes."
   ]
  },
  {
   "cell_type": "markdown",
   "metadata": {},
   "source": [
    "## Uploading your code to GitHub\n",
    "\n",
    "Once you have written the code for your assignment, and are passing all of the tests above, you are ready to submit the assignment for grading. Use the steps below to submit your code to GitHub.\n",
    "\n",
    "* Note, if you are having any issues with passing tests, and need help, you can also submit the code with a different commit message like the following. \n",
    "\n",
    "```\n",
    "git commit -m \"help me!\"\n",
    "```\n",
    "\n",
    "Once you have done that, send a private slack message to me @bhurwitz to let me know you submitted code and need help.\n"
   ]
  },
  {
   "cell_type": "code",
   "execution_count": null,
   "metadata": {},
   "outputs": [],
   "source": [
    "# Submit your code to Github\n",
    "%cd\n",
    "%cd be434-Spring2025\n",
    "!git add -A && git commit -m \"Submitting 03_vigenere for grading\"\n",
    "!git push"
   ]
  },
  {
   "cell_type": "markdown",
   "metadata": {},
   "source": [
    "Great job! You are done with this assignment.\n",
    "\n",
    "## Authors\n",
    "\n",
    "Bonnie Hurwitz <bhurwitz@arizona.edu> and Ken Youens-Clark <kyclark@gmail.com>"
   ]
  }
 ],
 "metadata": {
  "kernelspec": {
   "display_name": "Python 3 (ipykernel)",
   "language": "python",
   "name": "python3"
  },
  "language_info": {
   "codemirror_mode": {
    "name": "ipython",
    "version": 3
   },
   "file_extension": ".py",
   "mimetype": "text/x-python",
   "name": "python",
   "nbconvert_exporter": "python",
   "pygments_lexer": "ipython3",
   "version": "3.9.6"
  }
 },
 "nbformat": 4,
 "nbformat_minor": 5
}
