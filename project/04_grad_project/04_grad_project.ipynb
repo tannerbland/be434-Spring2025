{
 "cells": [
  {
   "cell_type": "markdown",
   "metadata": {},
   "source": [
    "# Project 4: tac\n",
    "\n",
    "** Graduate students only **\n",
    "\n",
    "Write a Python program called `tac.py` that prints the lines of one or more input files in reverse."
   ]
  },
  {
   "cell_type": "code",
   "execution_count": null,
   "metadata": {},
   "outputs": [],
   "source": [
    "# Run this cell to make sure this assignment is up to date\n",
    "%cd ~/be434-Spring2025\n",
    "!git pull --no-edit upstream main"
   ]
  },
  {
   "cell_type": "markdown",
   "metadata": {},
   "source": [
    "## Getting Started with new.py\n",
    "\n",
    "Let's start out by using new.py to create a program template for us.\n"
   ]
  },
  {
   "cell_type": "code",
   "execution_count": null,
   "metadata": {},
   "outputs": [],
   "source": [
    "# Generate the `tac.py` using `new.py`\n",
    "%cd ~/be434-Spring2024/project/04_grad_project\n",
    "!../../bin/new.py -p 'tac' tac.py"
   ]
  },
  {
   "cell_type": "markdown",
   "metadata": {},
   "source": [
    "You should see the following:\n",
    "\n",
    "```\n",
    "$ new.py -p 'tac' tac.py\n",
    "Done, see new script \"tac.py.\"\n",
    "```"
   ]
  },
  {
   "cell_type": "markdown",
   "metadata": {},
   "source": [
    "## Instructions\n",
    "\n",
    "### Usage and Arguments\n",
    "\n",
    "This is a corollary to `cat.py`, which will print all the lines of a file in order (get it—the name is \"cat\" in reverse).\n",
    "The program should accept\n",
    "\n",
    "1. one or more positional arguments which should be readable text files\n",
    "2. `-o|--outfile` output file option that defaults to `STDOUT`\n",
    "\n",
    "When run with no arguments, the program should print a brief usage:\n",
    "\n",
    "```\n",
    "$ ./tac.py\n",
    "usage: tac.py [-h] [-o FILE] FILE [FILE ...]\n",
    "tac.py: error: the following arguments are required: FILE\n",
    "```\n",
    "\n",
    "When run with the `-h|--help` flags, it should print a longer help message:\n",
    "\n",
    "```\n",
    "$ ./tac.py --help\n",
    "usage: tac.py [-h] [-o FILE] FILE [FILE ...]\n",
    "\n",
    "Python clone of tac\n",
    "\n",
    "positional arguments:\n",
    "  FILE                  Input file(s)\n",
    "\n",
    "optional arguments:\n",
    "  -h, --help            show this help message and exit\n",
    "  -o FILE, --outfile FILE\n",
    "                        Output file (default: <_io.TextIOWrapper\n",
    "                        name='<stdout>' mode='w' encoding='utf-8'>)\n",
    "```\n",
    "\n",
    "The program should reject any nonexistent or unreadable input files:\n",
    "\n",
    "```\n",
    "$ ./tac.py blargh\n",
    "usage: tac.py [-h] [-o FILE] FILE [FILE ...]\n",
    "tac.py: error: argument FILE: can't open 'blargh':\n",
    "[Errno 2] No such file or directory: 'blargh'\n",
    "```\n",
    "\n",
    "When run with an empty file such as _inputs/empty.txt_, it should print nothing.\n",
    "The input file _inputs/one.txt_ has a single line of text, and the program should print this.\n",
    "Be default, all output should be printed to `STDOUT`:\n",
    "\n",
    "```\n",
    "$ ./tac.py inputs/one.txt\n",
    "one\n",
    "```\n",
    "\n",
    "The input file _inputs/ten.txt_ has ten lines of text:\n",
    "\n",
    "```\n",
    "$ cat inputs/ten.txt\n",
    "one\n",
    "two\n",
    "three\n",
    "four\n",
    "five\n",
    "six\n",
    "seven\n",
    "eight\n",
    "nine\n",
    "ten\n",
    "```\n",
    "\n",
    "The `tac.py` should print these lines in reverse:\n",
    "\n",
    "```\n",
    "$ ./tac.py inputs/ten.txt\n",
    "ten\n",
    "nine\n",
    "eight\n",
    "seven\n",
    "six\n",
    "five\n",
    "four\n",
    "three\n",
    "two\n",
    "one\n",
    "```\n",
    "\n",
    "The program should handle multiple input files and should print the lines from each file in reverse before moving to the next input file:\n",
    "\n",
    "```\n",
    "$ ./tac.py inputs/empty.txt inputs/one.txt inputs/ten.txt\n",
    "one\n",
    "ten\n",
    "nine\n",
    "eight\n",
    "seven\n",
    "six\n",
    "five\n",
    "four\n",
    "three\n",
    "two\n",
    "one\n",
    "```\n",
    "\n",
    "When run with the `-o|--outfile` option, the program should print the lines to the named output file and nothing to `STDOUT`:\n",
    "\n",
    "```\n",
    "$ ./tac.py inputs/ten.txt -o foo\n",
    "$ cat foo\n",
    "ten\n",
    "nine\n",
    "eight\n",
    "seven\n",
    "six\n",
    "five\n",
    "four\n",
    "three\n",
    "two\n",
    "one\n",
    "```"
   ]
  },
  {
   "cell_type": "markdown",
   "metadata": {},
   "source": [
    "## Time to write some code!\n",
    "\n",
    "Open the script in VSCode through the HPC app to edit the code. Write the code to match the instructions above. Note that you must follow the instructions exactly (including all spaces and punctuation!)"
   ]
  },
  {
   "cell_type": "markdown",
   "metadata": {},
   "source": [
    "## Testing\n",
    "\n",
    "As you write your code, you can test it along the way to make sure that you are passing all of the tests for the homework. \n",
    "\n",
    "We will use the test suite that is included with the assignment to test that you are meeting all of the requirements in the instructions above.\n",
    "\n",
    "You will find the steps below to test your code. Note that you can run these commands from a \"shell\" within the VS Code GUI. Or, you can run them here... "
   ]
  },
  {
   "cell_type": "code",
   "execution_count": null,
   "metadata": {},
   "outputs": [],
   "source": [
    "# Format your code to make it beautiful (this is called linting)\n",
    "%cd ~/be434-Spring2025/project/04_grad_project\n",
    "!apptainer run /xdisk/bhurwitz/bh_class/biosystems/biosystems.sif black tac.py"
   ]
  },
  {
   "cell_type": "code",
   "execution_count": null,
   "metadata": {},
   "outputs": [],
   "source": [
    "# Now run the tests on your code\n",
    "%cd ~/be434-Spring2025/project/04_grad_project\n",
    "!apptainer run /xdisk/bhurwitz/bh_class/biosystems/biosystems.sif make test"
   ]
  },
  {
   "cell_type": "markdown",
   "metadata": {},
   "source": [
    "The program should pass the entire test suite, which looks like this:\n",
    "\n",
    "```\n",
    "$ make test\n",
    "pytest -xv --pylint --flake8 test.py tac.py\n",
    "============================= test session starts ==============================\n",
    "...\n",
    "collected 14 items\n",
    "\n",
    "test.py::FLAKE8 PASSED                                                   [  7%]\n",
    "test.py::test_exists PASSED                                              [ 14%]\n",
    "test.py::test_dies_no_args PASSED                                        [ 21%]\n",
    "test.py::test_usage PASSED                                               [ 28%]\n",
    "test.py::test_bad_file PASSED                                            [ 35%]\n",
    "test.py::test_empty PASSED                                               [ 42%]\n",
    "test.py::test_empty_outfile PASSED                                       [ 50%]\n",
    "test.py::test_one PASSED                                                 [ 57%]\n",
    "test.py::test_one_outfile PASSED                                         [ 64%]\n",
    "test.py::test_ten PASSED                                                 [ 71%]\n",
    "test.py::test_ten_outfile PASSED                                         [ 78%]\n",
    "test.py::test_all PASSED                                                 [ 85%]\n",
    "test.py::test_all_outfile PASSED                                         [ 92%]\n",
    "tac.py::FLAKE8 SKIPPED                                                   [100%]\n",
    "\n",
    "======================== 13 passed, 1 skipped in 0.79s =========================\n",
    "```\n",
    "\n",
    "Your grade is whatever percentage of tests your code passes."
   ]
  },
  {
   "cell_type": "markdown",
   "metadata": {},
   "source": [
    "## Uploading your code to GitHub\n",
    "\n",
    "Once you have written the code for your assignment, and are passing all of the tests above, you are ready to submit the assignment for grading. Use the steps below to submit your code to GitHub.\n",
    "\n",
    "* Note, if you are having any issues with passing tests, and need help, you can also submit the code with a different commit message like the following. \n",
    "\n",
    "```\n",
    "git commit -m \"help me!\"\n",
    "```\n",
    "\n",
    "Once you have done that, send a private slack message to me @bhurwitz to let me know you submitted code and need help.\n"
   ]
  },
  {
   "cell_type": "code",
   "execution_count": null,
   "metadata": {},
   "outputs": [],
   "source": [
    "# Submit your code to Github\n",
    "%cd\n",
    "%cd be434-Spring2025\n",
    "!git add -A && git commit -m \"Submitting 04_grad_project for grading\"\n",
    "!git push"
   ]
  },
  {
   "cell_type": "markdown",
   "metadata": {},
   "source": [
    "Great job! You are done with this assignment.\n",
    "\n",
    "## Authors\n",
    "\n",
    "Bonnie Hurwitz <bhurwitz@arizona.edu> and Ken Youens-Clark <kyclark@gmail.com>"
   ]
  }
 ],
 "metadata": {
  "kernelspec": {
   "display_name": "Python 3 (ipykernel)",
   "language": "python",
   "name": "python3"
  },
  "language_info": {
   "codemirror_mode": {
    "name": "ipython",
    "version": 3
   },
   "file_extension": ".py",
   "mimetype": "text/x-python",
   "name": "python",
   "nbconvert_exporter": "python",
   "pygments_lexer": "ipython3",
   "version": "3.9.6"
  }
 },
 "nbformat": 4,
 "nbformat_minor": 5
}
