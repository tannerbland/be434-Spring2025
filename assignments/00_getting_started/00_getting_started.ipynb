{
 "cells": [
  {
   "cell_type": "markdown",
   "metadata": {},
   "source": [
    "# Getting Started\n",
    "\n",
    "Your first task on the HPC is to clone your repository, so you can \"push to\" and \"pull from\" that respository. Your GitHub repository is the \"master\" copy of your code, and we will create a clone of that repository, as a working copy on here on the HPC.\n",
    "\n",
    "Note that you should be running this notebook through the HPC web-portal: https://ood.hpc.arizona.edu/pun/sys/dashboard and login with your UA net-id and password. "
   ]
  },
  {
   "cell_type": "code",
   "execution_count": null,
   "id": "d0ca6ef3",
   "metadata": {},
   "outputs": [],
   "source": [
    "# First we need to create a clone of your GitHub repository on the HPC\n",
    "# !!! change [YOUR GITHUB ID] to your own GitHub id. \n",
    "%cd\n",
    "!git clone https://github.com/[YOUR GITHUB ID]/be434-Spring2025.git"
   ]
  },
  {
   "cell_type": "code",
   "execution_count": null,
   "metadata": {},
   "outputs": [],
   "source": [
    "# Run this cell to make sure you are up to date with the master class repo\n",
    "%cd ~/be434-Spring2025\n",
    "!git pull --no-edit upstream main"
   ]
  },
  {
   "cell_type": "markdown",
   "metadata": {},
   "source": [
    "Great job! You are done with this set up.\n",
    "\n",
    "## Authors\n",
    "\n",
    "Bonnie Hurwitz <bhurwitz@arizona.edu> and Ken Youens-Clark <kyclark@gmail.com>"
   ]
  }
 ],
 "metadata": {
  "kernelspec": {
   "display_name": "Python 3 (ipykernel)",
   "language": "python",
   "name": "python3"
  },
  "language_info": {
   "codemirror_mode": {
    "name": "ipython",
    "version": 3
   },
   "file_extension": ".py",
   "mimetype": "text/x-python",
   "name": "python",
   "nbconvert_exporter": "python",
   "pygments_lexer": "ipython3",
   "version": "3.9.6"
  }
 },
 "nbformat": 4,
 "nbformat_minor": 5
}
