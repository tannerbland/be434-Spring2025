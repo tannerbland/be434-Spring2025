{
 "cells": [
  {
   "cell_type": "markdown",
   "metadata": {},
   "source": [
    "# Assignment 4: Reverse Complement DNA\n",
    "\n",
    "Write a program called `revc.py` that will accept a string of DNA either or a filename containing the DNA and will print the reverse complement."
   ]
  },
  {
   "cell_type": "code",
   "execution_count": null,
   "id": "7ac41d7f",
   "metadata": {},
   "outputs": [],
   "source": [
    "# Go to your working directory on the HPC\n",
    "%cd ~/be434-Spring2025\n",
    "!git pull"
   ]
  },
  {
   "cell_type": "markdown",
   "id": "c10494c4",
   "metadata": {},
   "source": [
    "## Getting Started with new.py\n",
    "\n",
    "Let's start out by using new.py to create a program template for us.\n"
   ]
  },
  {
   "cell_type": "code",
   "execution_count": null,
   "id": "3d74724e",
   "metadata": {},
   "outputs": [],
   "source": [
    "# Generate the `revc.py` using `new.py`\n",
    "%cd ~/be434-Spring2025/assignments/04_revc\n",
    "!../../bin/new.py -p 'Reverse complement' revc.py"
   ]
  },
  {
   "cell_type": "markdown",
   "metadata": {},
   "source": [
    "You should see the following:\n",
    "\n",
    "```\n",
    "$ new.py -p 'Reverse complement' revc.py\n",
    "Done, see new script \"revc.py.\"\n",
    "```"
   ]
  },
  {
   "cell_type": "markdown",
   "metadata": {},
   "source": [
    "## Instructions\n",
    "\n",
    "### Usage and Arguments\n",
    "\n",
    "The program should print a \"usage\" statement for `-h` or `--help` flags:\n",
    "\n",
    "```\n",
    "$ ./revc.py -h\n",
    "usage: revc.py [-h] DNA\n",
    "\n",
    "Print the reverse complement of DNA\n",
    "\n",
    "positional arguments:\n",
    "  DNA         Input sequence or file\n",
    "\n",
    "optional arguments:\n",
    "  -h, --help  show this help message and exit\n",
    "```\n",
    "\n",
    "The program can accept the DNA as a command-line argument:\n",
    "\n",
    "```\n",
    "$ ./revc.py AAAACCCGGT\n",
    "ACCGGGTTTT\n",
    "```\n",
    "\n",
    "Or as the name of an input file such as:\n",
    "\n",
    "```\n",
    "$ cat tests/inputs/input1.txt\n",
    "AAAACCCGGT\n",
    "$ ./revc.py tests/inputs/input1.txt\n",
    "ACCGGGTTTT\n",
    "```"
   ]
  },
  {
   "cell_type": "markdown",
   "metadata": {},
   "source": [
    "## Time to write some code!\n",
    "\n",
    "Open the script in VSCode through the HPC app to edit the code. Write the code to match the instructions above. Note that you must follow the instructions exactly (including all spaces and punctuation!)"
   ]
  },
  {
   "cell_type": "markdown",
   "metadata": {},
   "source": [
    "## Testing\n",
    "\n",
    "As you write your code, you can test it along the way to make sure that you are passing all of the tests for the homework. \n",
    "\n",
    "We will use the test suite that is included with the assignment to test that you are meeting all of the requirements in the instructions above.\n",
    "\n",
    "You will find the steps below to test your code. Note that you can run these commands from a \"shell\" within the VS Code GUI. Or, you can run them here... "
   ]
  },
  {
   "cell_type": "code",
   "execution_count": null,
   "metadata": {},
   "outputs": [],
   "source": [
    "# Format your code to make it beautiful (this is called linting)\n",
    "%cd ~/be434-Spring2025/assignments/04_revc\n",
    "!apptainer run /xdisk/bhurwitz/bh_class/biosystems/biosystems.sif black revc.py"
   ]
  },
  {
   "cell_type": "code",
   "execution_count": null,
   "metadata": {},
   "outputs": [],
   "source": [
    "# Now run the tests on your code\n",
    "%cd ~/be434-Spring2025/assignments/04_revc\n",
    "!apptainer run /xdisk/bhurwitz/bh_class/biosystems/biosystems.sif make test"
   ]
  },
  {
   "cell_type": "markdown",
   "metadata": {},
   "source": [
    "A passing test suite looks like this:\n",
    "\n",
    "```\n",
    "$ make test\n",
    "python3 -m pytest -xv --flake8 --pylint --pylint-rcfile=../pylintrc\n",
    "--mypy revc.py tests/revc_test.py\n",
    "============================= test session starts ==============================\n",
    "...\n",
    "collected 11 items\n",
    "\n",
    "revc.py::FLAKE8 SKIPPED                                                  [  8%]\n",
    "revc.py::mypy PASSED                                                     [ 16%]\n",
    "tests/revc_test.py::FLAKE8 SKIPPED                                       [ 25%]\n",
    "tests/revc_test.py::mypy PASSED                                          [ 33%]\n",
    "tests/revc_test.py::test_exists PASSED                                   [ 41%]\n",
    "tests/revc_test.py::test_usage PASSED                                    [ 50%]\n",
    "tests/revc_test.py::test_no_args PASSED                                  [ 58%]\n",
    "tests/revc_test.py::test_uppercase PASSED                                [ 66%]\n",
    "tests/revc_test.py::test_lowercase PASSED                                [ 75%]\n",
    "tests/revc_test.py::test_input1 PASSED                                   [ 83%]\n",
    "tests/revc_test.py::test_input2 PASSED                                   [ 91%]\n",
    "::mypy PASSED                                                            [100%]\n",
    "===================================== mypy =====================================\n",
    "\n",
    "Success: no issues found in 2 source files\n",
    "======================== 10 passed, 2 skipped in 1.73s =========================\n",
    "```\n",
    "\n",
    "Your grade is whatever percentage of tests your code passes."
   ]
  },
  {
   "cell_type": "markdown",
   "metadata": {},
   "source": [
    "## Uploading your code to GitHub\n",
    "\n",
    "Once you have written the code for your assignment, and are passing all of the tests above, you are ready to submit the assignment for grading. Use the steps below to submit your code to GitHub.\n",
    "\n",
    "* Note, if you are having any issues with passing tests, and need help, you can also submit the code with a different commit message like the following. \n",
    "\n",
    "```\n",
    "git commit -m \"help!\"\n",
    "```\n",
    "\n",
    "Once you have done that, send a private slack message to me @bhurwitz to let me know you submitted code and need help.\n"
   ]
  },
  {
   "cell_type": "code",
   "execution_count": null,
   "metadata": {},
   "outputs": [],
   "source": [
    "# Submit your code to Github\n",
    "%cd\n",
    "%cd be434-Spring2025\n",
    "!git add -A && git commit -m \"Submitting 04_revc for grading\"\n",
    "!git push"
   ]
  },
  {
   "cell_type": "markdown",
   "metadata": {},
   "source": [
    "Great job! You are done with this assignment.\n",
    "\n",
    "## Authors\n",
    "\n",
    "Bonnie Hurwitz <bhurwitz@arizona.edu> and Ken Youens-Clark <kyclark@gmail.com>"
   ]
  }
 ],
 "metadata": {
  "kernelspec": {
   "display_name": "Python 3 (ipykernel)",
   "language": "python",
   "name": "python3"
  },
  "language_info": {
   "codemirror_mode": {
    "name": "ipython",
    "version": 3
   },
   "file_extension": ".py",
   "mimetype": "text/x-python",
   "name": "python",
   "nbconvert_exporter": "python",
   "pygments_lexer": "ipython3",
   "version": "3.9.6"
  }
 },
 "nbformat": 4,
 "nbformat_minor": 5
}
