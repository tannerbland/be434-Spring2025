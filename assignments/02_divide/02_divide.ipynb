{
 "cells": [
  {
   "cell_type": "markdown",
   "metadata": {},
   "source": [
    "# Assignment 2: Divide\n",
    "\n",
    "Create Python program called `divide.py` that will divide two required integer values."
   ]
  },
  {
   "cell_type": "code",
   "execution_count": null,
   "metadata": {},
   "outputs": [],
   "source": [
    "# Go to your working directory on the HPC\n",
    "%cd ~/be434-Spring2025\n",
    "!git pull"
   ]
  },
  {
   "cell_type": "markdown",
   "metadata": {},
   "source": [
    "## Getting Started with new.py\n",
    "\n",
    "Let's start out by using new.py to create a program template for us.\n"
   ]
  },
  {
   "cell_type": "code",
   "execution_count": null,
   "metadata": {},
   "outputs": [],
   "source": [
    "# Generate the `divide.py` using `new.py`\n",
    "%cd ~/be434-Spring2025/assignments/02_divide\n",
    "!../../bin/new.py -p 'Divide two numbers' divide.py"
   ]
  },
  {
   "cell_type": "markdown",
   "metadata": {},
   "source": [
    "You should see the following:\n",
    "\n",
    "```\n",
    "$ new.py -p 'Divide two numbers' divide.py\n",
    "Done, see new script \"divide.py.\"\n",
    "```"
   ]
  },
  {
   "cell_type": "markdown",
   "metadata": {},
   "source": [
    "## Instructions\n",
    "\n",
    "## Usage and Arguments\n",
    "\n",
    "When run with no arguments, the program should produce a short usage:\n",
    "\n",
    "```\n",
    "$ ./divide.py\n",
    "usage: divide.py [-h] INT INT\n",
    "divide.py: error: the following arguments are required: INT\n",
    "```\n",
    "\n",
    "When run with `-h|--help`, the program should produce a longer usage:\n",
    "\n",
    "```\n",
    "$ ./divide.py --help\n",
    "usage: divide.py [-h] INT INT\n",
    "\n",
    "Divide two numbers\n",
    "\n",
    "positional arguments:\n",
    "  INT         Numbers to divide\n",
    "\n",
    "optional arguments:\n",
    "  -h, --help  show this help message and exit\n",
    "```\n",
    "\n",
    "Fewer than two arguments should fail:\n",
    "\n",
    "```\n",
    "$ ./divide.py 1\n",
    "usage: divide.py [-h] INT INT\n",
    "divide.py: error: the following arguments are required: INT\n",
    "```\n",
    "\n",
    "Any non-integer values should be rejected:\n",
    "\n",
    "```\n",
    "$ ./divide.py 1 foo\n",
    "usage: divide.py [-h] INT INT\n",
    "divide.py: error: argument INT: invalid int value: 'foo'\n",
    "```\n",
    "\n",
    "When run with more than two arguments, it should fail:\n",
    "\n",
    "```\n",
    "$ ./divide.py 1 2 3\n",
    "usage: divide.py [-h] INT INT\n",
    "divide.py: error: unrecognized arguments: 3\n",
    "```\n",
    "\n",
    "The second argument is not allowed to be zero:\n",
    "\n",
    "```\n",
    "$ ./divide.py 1 0\n",
    "usage: divide.py [-h] INT INT\n",
    "divide.py: error: Cannot divide by zero, dum-dum!\n",
    "```\n",
    "\n",
    "## Output\n",
    "\n",
    "The output of the program should show an division statement with the arguments followed by an equal sign and the division of the operands:\n",
    "\n",
    "```\n",
    "$ ./divide.py 4 2\n",
    "4 / 2 = 2\n",
    "```\n",
    "\n",
    "Notice that you should use floor division as the output should be an integer value:\n",
    "\n",
    "```\n",
    "$ ./divide.py 10 3\n",
    "10 / 3 = 3\n",
    "```\n",
    "\n",
    "The program should handle negative values as well:\n",
    "\n",
    "```\n",
    "$ ./divide.py 9 -3\n",
    "9 / -3 = -3\n",
    "```"
   ]
  },
  {
   "cell_type": "markdown",
   "metadata": {},
   "source": [
    "## Time to write some code!\n",
    "\n",
    "Open the script in VSCode through the HPC app to edit the code. Write the code to match the instructions above. Note that you must follow the instructions exactly (including all spaces and punctuation!)"
   ]
  },
  {
   "cell_type": "markdown",
   "metadata": {},
   "source": [
    "## Testing\n",
    "\n",
    "As you write your code, you can test it along the way to make sure that you are passing all of the tests for the homework. \n",
    "\n",
    "We will use the test suite that is included with the assignment to test that you are meeting all of the requirements in the instructions above.\n",
    "\n",
    "You will find the steps below to test your code. Note that you can run these commands from a \"shell\" within the VS Code GUI. Or, you can run them here... "
   ]
  },
  {
   "cell_type": "code",
   "execution_count": null,
   "metadata": {},
   "outputs": [],
   "source": [
    "# Format your code to make it beautiful (this is called linting)\n",
    "%cd ~/be434-Spring2025/assignments/02_divide\n",
    "!apptainer run /xdisk/bhurwitz/bh_class/biosystems/biosystems.sif black divide.py"
   ]
  },
  {
   "cell_type": "code",
   "execution_count": null,
   "metadata": {},
   "outputs": [],
   "source": [
    "# Now run the tests on your code\n",
    "%cd ~/be434-Spring2025/assignments/02_divide\n",
    "!apptainer run /xdisk/bhurwitz/bh_class/biosystems/biosystems.sif make test"
   ]
  },
  {
   "cell_type": "markdown",
   "metadata": {},
   "source": [
    "A passing test suite should look like this:\n",
    "\n",
    "```\n",
    "$ make test\n",
    "pytest -xv --pylint --flake8 test.py\n",
    "============================= test session starts ==============================\n",
    "...\n",
    "\n",
    "test.py::PYLINT SKIPPED (file(s) previously passed pylint checks)        [  7%]\n",
    "test.py::FLAKE8 SKIPPED (file(s) previously passed FLAKE8 checks)        [ 14%]\n",
    "test.py::test_exists PASSED                                              [ 21%]\n",
    "test.py::test_usage PASSED                                               [ 28%]\n",
    "test.py::test_dies_no_args PASSED                                        [ 35%]\n",
    "test.py::test_dies_one_arg PASSED                                        [ 42%]\n",
    "test.py::test_dies_three_arg PASSED                                      [ 50%]\n",
    "test.py::test_dies_not_numbers PASSED                                    [ 57%]\n",
    "test.py::test_dies_div_by_zero PASSED                                    [ 64%]\n",
    "test.py::test1 PASSED                                                    [ 71%]\n",
    "test.py::test2 PASSED                                                    [ 78%]\n",
    "test.py::test3 PASSED                                                    [ 85%]\n",
    "test.py::test4 PASSED                                                    [ 92%]\n",
    "test.py::test5 PASSED                                                    [100%]\n",
    "\n",
    "======================== 12 passed, 2 skipped in 0.29s =========================\n",
    "```\n"
   ]
  },
  {
   "cell_type": "markdown",
   "metadata": {},
   "source": [
    "## Uploading your code to GitHub\n",
    "\n",
    "Once you have written the code for your assignment, and are passing all of the tests above, you are ready to submit the assignment for grading. Use the steps below to submit your code to GitHub.\n",
    "\n",
    "* Note, if you are having any issues with passing tests, and need help, you can also submit the code with a different commit message like the following. \n",
    "\n",
    "```\n",
    "git commit -m \"help me!\"\n",
    "```\n",
    "\n",
    "Once you have done that, send a private slack message to me @bhurwitz to let me know you submitted code and need help.\n"
   ]
  },
  {
   "cell_type": "code",
   "execution_count": null,
   "metadata": {},
   "outputs": [],
   "source": [
    "# Submit your code to Github\n",
    "%cd\n",
    "%cd be434-Spring2025\n",
    "!git add -A && git commit -m \"Submitting 02_divide for grading\"\n",
    "!git push"
   ]
  },
  {
   "cell_type": "markdown",
   "metadata": {},
   "source": [
    "Great job! You are done with this assignment.\n",
    "\n",
    "## Authors\n",
    "\n",
    "Bonnie Hurwitz <bhurwitz@arizona.edu> and Ken Youens-Clark <kyclark@gmail.com>"
   ]
  }
 ],
 "metadata": {
  "kernelspec": {
   "display_name": "Python 3 (ipykernel)",
   "language": "python",
   "name": "python3"
  },
  "language_info": {
   "codemirror_mode": {
    "name": "ipython",
    "version": 3
   },
   "file_extension": ".py",
   "mimetype": "text/x-python",
   "name": "python",
   "nbconvert_exporter": "python",
   "pygments_lexer": "ipython3",
   "version": "3.9.6"
  }
 },
 "nbformat": 4,
 "nbformat_minor": 5
}
