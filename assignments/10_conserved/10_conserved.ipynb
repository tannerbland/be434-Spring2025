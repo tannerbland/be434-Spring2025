{
 "cells": [
  {
   "cell_type": "markdown",
   "metadata": {},
   "source": [
    "# Assignment 10: Multiple Sequence Alignment\n",
    "\n",
    "Write a Python program called `conserved.py` that will show the conserved bases in two or more aligned sequences."
   ]
  },
  {
   "cell_type": "code",
   "execution_count": null,
   "metadata": {},
   "outputs": [],
   "source": [
    "# Run this cell to make sure this assignment is up to date\n",
    "%cd ~/be434-Spring2025\n",
    "!git pull --no-edit upstream main"
   ]
  },
  {
   "cell_type": "markdown",
   "metadata": {},
   "source": [
    "## Getting Started with new.py\n",
    "\n",
    "Let's start out by using new.py to create a program template for us.\n"
   ]
  },
  {
   "cell_type": "code",
   "execution_count": null,
   "metadata": {},
   "outputs": [],
   "source": [
    "# Generate the `conserved.py` using `new.py`\n",
    "%cd ~/be434-Spring2024/assignments/10_conserved\n",
    "!../../bin/new.py -p 'Find conserved sequence' conserved.py"
   ]
  },
  {
   "cell_type": "markdown",
   "metadata": {},
   "source": [
    "You should see the following:\n",
    "\n",
    "```\n",
    "$ new.py -p 'Find conserved sequences' conserved.py\n",
    "Done, see new script \"conserved.py.\"\n",
    "```"
   ]
  },
  {
   "cell_type": "markdown",
   "metadata": {},
   "source": [
    "## Instructions\n",
    "\n",
    "### Usage and Arguments\n",
    "\n",
    "## Usage\n",
    "The program should accept a single, required, readable file argument.\n",
    "When run with no arguments, it should produce a brief usage statement:\n",
    "\n",
    "```\n",
    "$ ./conserved.py\n",
    "usage: conserved.py [-h] FILE\n",
    "conserved.py: error: the following arguments are required: FILE\n",
    "```\n",
    "\n",
    "When run with `-h|--help` flags, it should produce a longer help:\n",
    "\n",
    "```\n",
    "$ ./conserved.py -h\n",
    "usage: conserved.py [-h] FILE\n",
    "\n",
    "Find conserved bases\n",
    "\n",
    "positional arguments:\n",
    "  FILE        Input file\n",
    "\n",
    "optional arguments:\n",
    "  -h, --help  show this help message and exit\n",
    "```\n",
    "\n",
    "The first test input file has two sequences:\n",
    "\n",
    "```\n",
    "$ cat inputs/seqs1.fa\n",
    "PSHLQYHERTHTGEKPYECHQCGQAFKKCSLLQRHKR\n",
    "HSHLQCHKRTHTGEKPYECNQCGKAFSQHGLLQRHKR\n",
    "```\n",
    "\n",
    "When run with this file, the program should print the sequences and then a final line showing a pipe (`|`) where all the bases are the same or an `X` where they are not:\n",
    "\n",
    "```\n",
    "$ ./conserved.py inputs/seqs1.fa\n",
    "PSHLQYHERTHTGEKPYECHQCGQAFKKCSLLQRHKR\n",
    "HSHLQCHKRTHTGEKPYECNQCGKAFSQHGLLQRHKR\n",
    "X||||X|X|||||||||||X|||X||XXXX|||||||\n",
    "```\n",
    "\n",
    "The second test file has three sequences, and the output should be similar:\n",
    "\n",
    "```\n",
    "$ ./conserved.py inputs/seqs2.fa\n",
    "PSHLQYHERNHTGEKPYBCHQCGQAFKKCSLLQRHKR\n",
    "HSHLQCHKRTHTGEKPYECNQCGKHFSQHGLLQRHKR\n",
    "HDHLQCHKRTHTGEKPYECNQCGKAFSQHGLFQRHKR\n",
    "XX|||X|X|X|||||||X|X|||XX|XXXX|X|||||\n",
    "```"
   ]
  },
  {
   "cell_type": "markdown",
   "metadata": {},
   "source": [
    "## Time to write some code!\n",
    "\n",
    "Open the script in VSCode through the HPC app to edit the code. Write the code to match the instructions above. Note that you must follow the instructions exactly (including all spaces and punctuation!)"
   ]
  },
  {
   "cell_type": "markdown",
   "metadata": {},
   "source": [
    "## Testing\n",
    "\n",
    "As you write your code, you can test it along the way to make sure that you are passing all of the tests for the homework. \n",
    "\n",
    "We will use the test suite that is included with the assignment to test that you are meeting all of the requirements in the instructions above.\n",
    "\n",
    "You will find the steps below to test your code. Note that you can run these commands from a \"shell\" within the VS Code GUI. Or, you can run them here... "
   ]
  },
  {
   "cell_type": "code",
   "execution_count": null,
   "metadata": {},
   "outputs": [],
   "source": [
    "# Format your code to make it beautiful (this is called linting)\n",
    "%cd ~/be434-Spring2025/assignments/10_conserved\n",
    "!apptainer run /xdisk/bhurwitz/bh_class/biosystems/biosystems.sif black conserved.py"
   ]
  },
  {
   "cell_type": "code",
   "execution_count": null,
   "metadata": {},
   "outputs": [],
   "source": [
    "# Now run the tests on your code\n",
    "%cd ~/be434-Spring2025/assignments/10_conserved\n",
    "!apptainer run /xdisk/bhurwitz/bh_class/biosystems/biosystems.sif make test"
   ]
  },
  {
   "cell_type": "markdown",
   "metadata": {},
   "source": [
    "A passing test suite looks like this:\n",
    "\n",
    "```\n",
    "$ make test\n",
    "pytest -xv --pylint --disable-warnings test.py conserved.py\n",
    "============================= test session starts ==============================\n",
    "...\n",
    "collected 7 items\n",
    "\n",
    "test.py::FLAKE8 PASSED                                                   [ 14%]\n",
    "test.py::test_exists PASSED                                              [ 28%]\n",
    "test.py::test_usage PASSED                                               [ 42%]\n",
    "test.py::test_bad_file PASSED                                            [ 57%]\n",
    "test.py::test_good_input1 PASSED                                         [ 71%]\n",
    "test.py::test_good_input2 PASSED                                         [ 85%]\n",
    "conserved.py::FLAKE8 SKIPPED                                             [100%]\n",
    "\n",
    "========================= 6 passed, 1 skipped in 0.43s =========================\n",
    "```\n",
    "\n",
    "Your grade is whatever percentage of tests your code passes."
   ]
  },
  {
   "cell_type": "markdown",
   "metadata": {},
   "source": [
    "## Uploading your code to GitHub\n",
    "\n",
    "Once you have written the code for your assignment, and are passing all of the tests above, you are ready to submit the assignment for grading. Use the steps below to submit your code to GitHub.\n",
    "\n",
    "* Note, if you are having any issues with passing tests, and need help, you can also submit the code with a different commit message like the following. \n",
    "\n",
    "```\n",
    "git commit -m \"Yikes, what is happening\"\n",
    "```\n",
    "\n",
    "Once you have done that, send a private slack message to me @bhurwitz to let me know you submitted code and need help.\n"
   ]
  },
  {
   "cell_type": "code",
   "execution_count": null,
   "metadata": {},
   "outputs": [],
   "source": [
    "# Submit your code to Github\n",
    "%cd\n",
    "%cd be434-Spring2025\n",
    "!git add -A && git commit -m \"Submitting 10_conserved for grading\"\n",
    "!git push"
   ]
  },
  {
   "cell_type": "markdown",
   "metadata": {},
   "source": [
    "Great job! You are done with this assignment.\n",
    "\n",
    "## Authors\n",
    "\n",
    "Bonnie Hurwitz <bhurwitz@arizona.edu> and Ken Youens-Clark <kyclark@gmail.com>"
   ]
  }
 ],
 "metadata": {
  "kernelspec": {
   "display_name": "Python 3 (ipykernel)",
   "language": "python",
   "name": "python3"
  },
  "language_info": {
   "codemirror_mode": {
    "name": "ipython",
    "version": 3
   },
   "file_extension": ".py",
   "mimetype": "text/x-python",
   "name": "python",
   "nbconvert_exporter": "python",
   "pygments_lexer": "ipython3",
   "version": "3.9.6"
  }
 },
 "nbformat": 4,
 "nbformat_minor": 5
}
