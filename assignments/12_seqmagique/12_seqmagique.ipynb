{
 "cells": [
  {
   "cell_type": "markdown",
   "metadata": {},
   "source": [
    "# Assignment 12: Seqmagique\n",
    "\n",
    "Write a program called `seqmagique.py` that will accept FASTA input files and will print the minimum/maximum/average sequence lengths and the number of sequence in each file"
   ]
  },
  {
   "cell_type": "code",
   "execution_count": null,
   "metadata": {},
   "outputs": [],
   "source": [
    "# Go to your working directory on the HPC\n",
    "%cd ~/be434-Spring2025\n",
    "!git pull"
   ]
  },
  {
   "cell_type": "markdown",
   "metadata": {},
   "source": [
    "## Getting Started with new.py\n",
    "\n",
    "Let's start out by using new.py to create a program template for us.\n"
   ]
  },
  {
   "cell_type": "code",
   "execution_count": null,
   "metadata": {},
   "outputs": [],
   "source": [
    "# Generate the `seqmagique.py` using `new.py`\n",
    "%cd ~/be434-Spring2025/assignments/12_seqmagique\n",
    "!../../bin/new.py -p 'magic sequence' seqmagique.py"
   ]
  },
  {
   "cell_type": "markdown",
   "metadata": {},
   "source": [
    "You should see the following:\n",
    "\n",
    "```\n",
    "$ new.py -p 'magic sequence' seqmagique.py\n",
    "Done, see new script \"seqmagique.py.\"\n",
    "```"
   ]
  },
  {
   "cell_type": "markdown",
   "metadata": {},
   "source": [
    "## Instructions\n",
    "\n",
    "### Usage and Arguments\n",
    "\n",
    "## Usage\n",
    "\n",
    "```\n",
    "$ ./seqmagique.py tests/inputs/*.fa\n",
    "name                     min_len    max_len    avg_len    num_seqs\n",
    "tests/inputs/1.fa             50         50      50.00           1\n",
    "tests/inputs/2.fa             49         79      64.00           5\n",
    "tests/inputs/empty.fa          0          0       0.00           0\n",
    "```\n",
    "\n",
    "The program should print a usage:\n",
    "\n",
    "```\n",
    "$ ./seqmagique.py -h\n",
    "usage: seqmagique.py [-h] [-t table] FILE [FILE ...]\n",
    "\n",
    "Argparse Python script\n",
    "\n",
    "positional arguments:\n",
    "  FILE                  Input FASTA file(s)\n",
    "\n",
    "optional arguments:\n",
    "  -h, --help            show this help message and exit\n",
    "  -t table, --tablefmt table\n",
    "                        Tabulate table style (default: plain)\n",
    "```\n",
    "\n",
    "The output table should be formatted with the `tabulate` module and so will accept all the valid table styles, e.g.:\n",
    "\n",
    "```\n",
    "$ ./seqmagique.py -t simple tests/inputs/*.fa\n",
    "name                     min_len    max_len    avg_len    num_seqs\n",
    "---------------------  ---------  ---------  ---------  ----------\n",
    "tests/inputs/1.fa             50         50      50.00           1\n",
    "tests/inputs/2.fa             49         79      64.00           5\n",
    "tests/inputs/empty.fa          0          0       0.00           0\n",
    "```"
   ]
  },
  {
   "cell_type": "markdown",
   "metadata": {},
   "source": [
    "## Time to write some code!\n",
    "\n",
    "Open the script in VSCode through the HPC app to edit the code. Write the code to match the instructions above. Note that you must follow the instructions exactly (including all spaces and punctuation!)"
   ]
  },
  {
   "cell_type": "markdown",
   "metadata": {},
   "source": [
    "## Testing\n",
    "\n",
    "As you write your code, you can test it along the way to make sure that you are passing all of the tests for the homework. \n",
    "\n",
    "We will use the test suite that is included with the assignment to test that you are meeting all of the requirements in the instructions above.\n",
    "\n",
    "You will find the steps below to test your code. Note that you can run these commands from a \"shell\" within the VS Code GUI. Or, you can run them here... "
   ]
  },
  {
   "cell_type": "code",
   "execution_count": null,
   "metadata": {},
   "outputs": [],
   "source": [
    "# Format your code to make it beautiful (this is called linting)\n",
    "%cd ~/be434-Spring2025/assignments/12_seqmagique\n",
    "!apptainer run /xdisk/bhurwitz/bh_class/biosystems/biosystems.sif black seqmagique.py"
   ]
  },
  {
   "cell_type": "code",
   "execution_count": null,
   "metadata": {},
   "outputs": [],
   "source": [
    "# Now run the tests on your code\n",
    "%cd ~/be434-Spring2025/assignments/01_howdy\n",
    "!apptainer run /xdisk/bhurwitz/bh_class/biosystems/biosystems.sif make test"
   ]
  },
  {
   "cell_type": "markdown",
   "metadata": {},
   "source": [
    "A passing test suite looks like this:\n",
    "\n",
    "```\n",
    "$ make test\n",
    "python3 -m pytest -xv --disable-pytest-warnings --flake8 --pylint\n",
    "--pylint-rcfile=../pylintrc --mypy seqmagique.py tests/seqmagique_test.py\n",
    "============================= test session starts ==============================\n",
    "...\n",
    "collected 12 items\n",
    "\n",
    "seqmagique.py::FLAKE8 SKIPPED                                            [  7%]\n",
    "seqmagique.py::mypy PASSED                                               [ 15%]\n",
    "tests/seqmagique_test.py::FLAKE8 SKIPPED                                 [ 23%]\n",
    "tests/seqmagique_test.py::mypy PASSED                                    [ 30%]\n",
    "tests/seqmagique_test.py::test_exists PASSED                             [ 38%]\n",
    "tests/seqmagique_test.py::test_usage PASSED                              [ 46%]\n",
    "tests/seqmagique_test.py::test_bad_file PASSED                           [ 53%]\n",
    "tests/seqmagique_test.py::test_empty_file PASSED                         [ 61%]\n",
    "tests/seqmagique_test.py::test_input1 PASSED                             [ 69%]\n",
    "tests/seqmagique_test.py::test_input2 PASSED                             [ 76%]\n",
    "tests/seqmagique_test.py::test_input_all PASSED                          [ 84%]\n",
    "tests/seqmagique_test.py::test_styles PASSED                             [ 92%]\n",
    "::mypy PASSED                                                            [100%]\n",
    "===================================== mypy =====================================\n",
    "\n",
    "Success: no issues found in 2 source files\n",
    "======================== 11 passed, 2 skipped in 6.33s =========================\n",
    "```\n",
    "\n",
    "Your grade is whatever percentage of tests your code passes."
   ]
  },
  {
   "cell_type": "markdown",
   "metadata": {},
   "source": [
    "## Uploading your code to GitHub\n",
    "\n",
    "Once you have written the code for your assignment, and are passing all of the tests above, you are ready to submit the assignment for grading. Use the steps below to submit your code to GitHub.\n",
    "\n",
    "* Note, if you are having any issues with passing tests, and need help, you can also submit the code with a different commit message like the following. \n",
    "\n",
    "```\n",
    "git commit -m \"help me!\"\n",
    "```\n",
    "\n",
    "Once you have done that, send a private slack message to me @bhurwitz to let me know you submitted code and need help.\n"
   ]
  },
  {
   "cell_type": "code",
   "execution_count": null,
   "metadata": {},
   "outputs": [],
   "source": [
    "# Submit your code to Github\n",
    "%cd\n",
    "%cd be434-Spring2025\n",
    "!git add -A && git commit -m \"Submitting 12_seqmagique for grading\"\n",
    "!git push"
   ]
  },
  {
   "cell_type": "markdown",
   "metadata": {},
   "source": [
    "Great job! You are done with this assignment.\n",
    "\n",
    "## Authors\n",
    "\n",
    "Bonnie Hurwitz <bhurwitz@arizona.edu> and Ken Youens-Clark <kyclark@gmail.com>"
   ]
  }
 ],
 "metadata": {
  "kernelspec": {
   "display_name": "Python 3 (ipykernel)",
   "language": "python",
   "name": "python3"
  },
  "language_info": {
   "codemirror_mode": {
    "name": "ipython",
    "version": 3
   },
   "file_extension": ".py",
   "mimetype": "text/x-python",
   "name": "python",
   "nbconvert_exporter": "python",
   "pygments_lexer": "ipython3",
   "version": "3.9.6"
  }
 },
 "nbformat": 4,
 "nbformat_minor": 5
}
