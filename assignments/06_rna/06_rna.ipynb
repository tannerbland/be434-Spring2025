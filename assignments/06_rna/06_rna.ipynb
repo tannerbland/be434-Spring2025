{
 "cells": [
  {
   "cell_type": "markdown",
   "metadata": {},
   "source": [
    "# Assignment 6: Transcribing DNA into RNA\n",
    "\n",
    "Write a program called `rna.py` that will accepts one or more files, each containing a sequence of DNA on each line and the name of an output directory.\n",
    "The sequences in each file will be transcribed to RNA in output file located in the output directory."
   ]
  },
  {
   "cell_type": "code",
   "execution_count": null,
   "metadata": {},
   "outputs": [],
   "source": [
    "# Run this cell to make sure this assignment is up to date\n",
    "%cd ~/be434-Spring2025\n",
    "!git pull --no-edit upstream main"
   ]
  },
  {
   "cell_type": "markdown",
   "metadata": {},
   "source": [
    "## Getting Started with new.py\n",
    "\n",
    "Let's start out by using new.py to create a program template for us.\n"
   ]
  },
  {
   "cell_type": "code",
   "execution_count": null,
   "metadata": {},
   "outputs": [],
   "source": [
    "# Generate the `rna.py` using `new.py`\n",
    "%cd ~/be434-Spring2024/assignments/06_rna\n",
    "!../../bin/new.py -p 'DNA to RNA' rna.py"
   ]
  },
  {
   "cell_type": "markdown",
   "metadata": {},
   "source": [
    "You should see the following:\n",
    "\n",
    "```\n",
    "$ new.py -p 'DNA to RNA' dna.py\n",
    "Done, see new script \"dna.py.\"\n",
    "```"
   ]
  },
  {
   "cell_type": "markdown",
   "metadata": {},
   "source": [
    "## Instructions\n",
    "\n",
    "### Usage and Arguments\n",
    "\n",
    "The program should print a \"usage\" statement for `-h` or `--help` flags:\n",
    "\n",
    "```\n",
    "$ ./rna.py -h\n",
    "usage: rna.py [-h] [-o DIR] FILE [FILE ...]\n",
    "\n",
    "Transcribe DNA into RNA\n",
    "\n",
    "positional arguments:\n",
    "  FILE                  Input DNA file\n",
    "\n",
    "optional arguments:\n",
    "  -h, --help            show this help message and exit\n",
    "  -o DIR, --outdir DIR  Output directory (default: out)\n",
    "```\n",
    "\n",
    "The input files should look like this:\n",
    "\n",
    "```\n",
    "$ cat tests/inputs/input1.txt\n",
    "GATGGAACTTGACTACGTAAATT\n",
    "```\n",
    "\n",
    "The default output directory is \"out.\"\n",
    "Note how all the input files are processed into the output directory and the STDOUT from the program summarizes the actions:\n",
    "\n",
    "```\n",
    "$ ./rna.py tests/inputs/*\n",
    "Done, wrote 5 sequences in 3 files to directory \"out\".\n",
    "```\n",
    "\n",
    "And the output should look like this:\n",
    "\n",
    "```\n",
    "$ head -c 20 out/*\n",
    "==> out/input1.txt <==\n",
    "GAUGGAACUUGACUACGUAA\n",
    "==> out/input2.txt <==\n",
    "UUAGCCCAGACUAGGACUUU\n",
    "==> out/input3.txt <==\n",
    "CUUAGGUCAGUGGUCUCUAA\n",
    "```"
   ]
  },
  {
   "cell_type": "markdown",
   "metadata": {},
   "source": [
    "## Time to write some code!\n",
    "\n",
    "Open the script in VSCode through the HPC app to edit the code. Write the code to match the instructions above. Note that you must follow the instructions exactly (including all spaces and punctuation!)"
   ]
  },
  {
   "cell_type": "markdown",
   "metadata": {},
   "source": [
    "## Testing\n",
    "\n",
    "As you write your code, you can test it along the way to make sure that you are passing all of the tests for the homework. \n",
    "\n",
    "We will use the test suite that is included with the assignment to test that you are meeting all of the requirements in the instructions above.\n",
    "\n",
    "You will find the steps below to test your code. Note that you can run these commands from a \"shell\" within the VS Code GUI. Or, you can run them here... "
   ]
  },
  {
   "cell_type": "code",
   "execution_count": null,
   "metadata": {},
   "outputs": [],
   "source": [
    "# Format your code to make it beautiful (this is called linting)\n",
    "%cd ~/be434-Spring2025/assignments/06_rna\n",
    "!apptainer run /xdisk/bhurwitz/bh_class/biosystems/biosystems.sif black rna.py"
   ]
  },
  {
   "cell_type": "code",
   "execution_count": null,
   "metadata": {},
   "outputs": [],
   "source": [
    "# Now run the tests on your code\n",
    "%cd ~/be434-Spring2025/assignments/06_rna\n",
    "!apptainer run /xdisk/bhurwitz/bh_class/biosystems/biosystems.sif make test"
   ]
  },
  {
   "cell_type": "markdown",
   "metadata": {},
   "source": [
    "A passing test suite looks like this:\n",
    "\n",
    "```\n",
    "$ make test\n",
    "python3 -m pytest -xv --flake8 --pylint --mypy rna.py tests/test.py\n",
    "============================ test session starts ============================\n",
    "...\n",
    "\n",
    "rna.py::FLAKE8 SKIPPED                                                [  8%]\n",
    "rna.py::mypy PASSED                                                   [ 16%]\n",
    "tests/test.py::FLAKE8 SKIPPED                                     [ 25%]\n",
    "tests/test.py::mypy PASSED                                        [ 33%]\n",
    "tests/test.py::test_exists PASSED                                 [ 41%]\n",
    "tests/test.py::test_usage PASSED                                  [ 50%]\n",
    "tests/test.py::test_no_args PASSED                                [ 58%]\n",
    "tests/test.py::test_bad_file PASSED                               [ 66%]\n",
    "tests/test.py::test_good_input1 PASSED                            [ 75%]\n",
    "tests/test.py::test_good_input2 PASSED                            [ 83%]\n",
    "tests/test.py::test_good_multiple_inputs PASSED                   [ 91%]\n",
    "::mypy PASSED                                                         [100%]\n",
    "=================================== mypy ====================================\n",
    "\n",
    "Success: no issues found in 2 source files\n",
    "======================= 10 passed, 2 skipped in 0.46s =======================\n",
    "```\n",
    "\n",
    "Your grade is whatever percentage of tests your code passes."
   ]
  },
  {
   "cell_type": "markdown",
   "metadata": {},
   "source": [
    "## Uploading your code to GitHub\n",
    "\n",
    "Once you have written the code for your assignment, and are passing all of the tests above, you are ready to submit the assignment for grading. Use the steps below to submit your code to GitHub.\n",
    "\n",
    "* Note, if you are having any issues with passing tests, and need help, you can also submit the code with a different commit message like the following. \n",
    "\n",
    "```\n",
    "git commit -m \"help!\"\n",
    "```\n",
    "\n",
    "Once you have done that, send a private slack message to me @bhurwitz to let me know you submitted code and need help.\n"
   ]
  },
  {
   "cell_type": "code",
   "execution_count": null,
   "metadata": {},
   "outputs": [],
   "source": [
    "# Submit your code to Github\n",
    "%cd\n",
    "%cd be434-Spring2025\n",
    "!git add -A && git commit -m \"Submitting 06_rna for grading\"\n",
    "!git push"
   ]
  },
  {
   "cell_type": "markdown",
   "metadata": {},
   "source": [
    "Great job! You are done with this assignment.\n",
    "\n",
    "## Authors\n",
    "\n",
    "Bonnie Hurwitz <bhurwitz@arizona.edu> and Ken Youens-Clark <kyclark@gmail.com>"
   ]
  }
 ],
 "metadata": {
  "kernelspec": {
   "display_name": "Python 3 (ipykernel)",
   "language": "python",
   "name": "python3"
  },
  "language_info": {
   "codemirror_mode": {
    "name": "ipython",
    "version": 3
   },
   "file_extension": ".py",
   "mimetype": "text/x-python",
   "name": "python",
   "nbconvert_exporter": "python",
   "pygments_lexer": "ipython3",
   "version": "3.9.6"
  }
 },
 "nbformat": 4,
 "nbformat_minor": 5
}
