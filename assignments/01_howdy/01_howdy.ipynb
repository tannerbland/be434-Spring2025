{
 "cells": [
  {
   "cell_type": "markdown",
   "metadata": {},
   "source": [
    "# Assignment 1: Howdy\n",
    "\n",
    "Create Python program called `howdy.py` that will print a friendly greeting. Say hello to Python!"
   ]
  },
  {
   "cell_type": "code",
   "execution_count": null,
   "id": "768639d4",
   "metadata": {},
   "outputs": [],
   "source": [
    "# Go to your working directory on the HPC\n",
    "%cd ~/be434-Spring2025\n",
    "!git pull"
   ]
  },
  {
   "cell_type": "markdown",
   "id": "97037937",
   "metadata": {},
   "source": [
    "## Getting Started with new.py\n",
    "\n",
    "Let's start out by using new.py to create a program template for us.\n"
   ]
  },
  {
   "cell_type": "code",
   "execution_count": null,
   "id": "aaf2f12c",
   "metadata": {},
   "outputs": [],
   "source": [
    "# Generate the `howdy.py` using `new.py`\n",
    "%cd ~/be434-Spring2025/assignments/01_howdy\n",
    "!../../bin/new.py -p 'Print greeting' howdy.py"
   ]
  },
  {
   "cell_type": "markdown",
   "metadata": {},
   "source": [
    "You should see the following:\n",
    "\n",
    "```\n",
    "$ new.py -p 'Print greeting' howdy.py\n",
    "Done, see new script \"howdy.py.\"\n",
    "```"
   ]
  },
  {
   "cell_type": "markdown",
   "metadata": {},
   "source": [
    "## Instructions\n",
    "\n",
    "### Usage and Arguments\n",
    "\n",
    "Open the new `howdy.py` program and modify it to accept three optional arguments:\n",
    "\n",
    "* `-g|--greeting`: A greeting, defaults to \"Howdy\"\n",
    "* `-n|--name`: A name to greeting, defaults to \"Stranger\"\n",
    "* `-e|--excited`: A flag to terminate the greeting with an exclamation point\n",
    "\n",
    "The program should respond to `-h|--help` to print the following usage:\n",
    "\n",
    "```\n",
    "$ ./howdy.py -h\n",
    "usage: howdy.py [-h] [-g str] [-n str] [-e]\n",
    "\n",
    "Greetings and salutations\n",
    "\n",
    "optional arguments:\n",
    "  -h, --help            show this help message and exit\n",
    "  -g str, --greeting str\n",
    "                        The greeting (default: Howdy)\n",
    "  -n str, --name str    Whom to greet (default: Stranger)\n",
    "  -e, --excited         Include an exclamation point (default: False)\n",
    "```\n",
    "\n",
    "### Output\n",
    "\n",
    "When run with no arguments, it should use the default values to print the following:\n",
    "\n",
    "```\n",
    "$ ./howdy.py\n",
    "Howdy, Stranger.\n",
    "```\n",
    "\n",
    "The `-g|--greeting` option should cause it to use the provided greeting:\n",
    "\n",
    "```\n",
    "$ ./howdy.py -g Sup\n",
    "Sup, Stranger.\n",
    "```\n",
    "\n",
    "The `-n|--name` option should cause it to use the provided name:\n",
    "\n",
    "```\n",
    "$ ./howdy.py -n Amanda\n",
    "Howdy, Amanda.\n",
    "```\n",
    "\n",
    "The `-e|--excited` flag should cause the greeting to end with a bang (otherwise known as an exclaimation point!):\n",
    "\n",
    "```\n",
    "$ ./howdy.py -e\n",
    "Howdy, Stranger!\n",
    "```\n",
    "\n",
    "The program should accept any combination of the short or long names of the arguments:\n",
    "\n",
    "```\n",
    "$ ./howdy.py --greeting Sup --name Dude --excited\n",
    "Sup, Dude\n",
    "```"
   ]
  },
  {
   "cell_type": "markdown",
   "metadata": {},
   "source": [
    "## Time to write some code!\n",
    "\n",
    "Open the script in VSCode through the HPC app to edit the code. Write the code to match the instructions above. Note that you must follow the instructions exactly (including all spaces and punctuation!)"
   ]
  },
  {
   "cell_type": "markdown",
   "metadata": {},
   "source": [
    "## Testing\n",
    "\n",
    "As you write your code, you can test it along the way to make sure that you are passing all of the tests for the homework. \n",
    "\n",
    "We will use the test suite that is included with the assignment to test that you are meeting all of the requirements in the instructions above.\n",
    "\n",
    "You will find the steps below to test your code. Note that you can run these commands from a \"shell\" within the VS Code GUI. Or, you can run them here... "
   ]
  },
  {
   "cell_type": "code",
   "execution_count": null,
   "metadata": {},
   "outputs": [],
   "source": [
    "# Format your code to make it beautiful (this is called linting)\n",
    "%cd ~/be434-Spring2025/assignments/01_howdy\n",
    "!apptainer run /xdisk/bhurwitz/bh_class/biosystems/biosystems.sif black howdy.py"
   ]
  },
  {
   "cell_type": "code",
   "execution_count": null,
   "metadata": {},
   "outputs": [],
   "source": [
    "# Now run the tests on your code\n",
    "%cd ~/be434-Spring2025/assignments/01_howdy\n",
    "!apptainer run /xdisk/bhurwitz/bh_class/biosystems/biosystems.sif make test"
   ]
  },
  {
   "cell_type": "markdown",
   "metadata": {},
   "source": [
    "A passing test suite looks like this:\n",
    "\n",
    "```\n",
    "============================= test session starts ==============================\n",
    "...\n",
    "--------------------------------------------------------------------------------\n",
    "Linting files\n",
    ".\n",
    "--------------------------------------------------------------------------------\n",
    "\n",
    "test.py::PYLINT PASSED                                                   [ 11%]\n",
    "test.py::FLAKE8 PASSED                                                   [ 22%]\n",
    "test.py::test_exists PASSED                                              [ 33%]\n",
    "test.py::test_usage PASSED                                               [ 44%]\n",
    "test.py::test_defaults PASSED                                            [ 55%]\n",
    "test.py::test_greeting PASSED                                            [ 66%]\n",
    "test.py::test_name PASSED                                                [ 77%]\n",
    "test.py::test_excited PASSED                                             [ 88%]\n",
    "test.py::test_all_options PASSED                                         [100%]\n",
    "\n",
    "============================== 9 passed in 0.51s ===============================\n",
    "```\n",
    "\n",
    "Your grade is whatever percentage of tests your code passes."
   ]
  },
  {
   "cell_type": "markdown",
   "metadata": {},
   "source": [
    "## Uploading your code to GitHub\n",
    "\n",
    "Once you have written the code for your assignment, and are passing all of the tests above, you are ready to submit the assignment for grading. Use the steps below to submit your code to GitHub.\n",
    "\n",
    "* Note, if you are having any issues with passing tests, and need help, you can also submit the code with a different commit message like the following. \n",
    "\n",
    "```\n",
    "git commit -m \"test_greeting failing for 01_howdy\"\n",
    "```\n",
    "\n",
    "Once you have done that, send a private slack message to me @bhurwitz to let me know you submitted code and need help.\n"
   ]
  },
  {
   "cell_type": "code",
   "execution_count": null,
   "metadata": {},
   "outputs": [],
   "source": [
    "# Submit your code to Github\n",
    "%cd\n",
    "%cd be434-Spring2025\n",
    "!git add -A && git commit -m \"Submitting 01_howdy for grading\"\n",
    "!git push"
   ]
  },
  {
   "cell_type": "markdown",
   "metadata": {},
   "source": [
    "Great job! You are done with this assignment.\n",
    "\n",
    "## Authors\n",
    "\n",
    "Bonnie Hurwitz <bhurwitz@arizona.edu> and Ken Youens-Clark <kyclark@gmail.com>"
   ]
  }
 ],
 "metadata": {
  "kernelspec": {
   "display_name": "Python 3 (ipykernel)",
   "language": "python",
   "name": "python3"
  },
  "language_info": {
   "codemirror_mode": {
    "name": "ipython",
    "version": 3
   },
   "file_extension": ".py",
   "mimetype": "text/x-python",
   "name": "python",
   "nbconvert_exporter": "python",
   "pygments_lexer": "ipython3",
   "version": "3.9.6"
  }
 },
 "nbformat": 4,
 "nbformat_minor": 5
}
