{
 "cells": [
  {
   "cell_type": "markdown",
   "metadata": {},
   "source": [
    "# Assignment 3: DNA\n",
    "\n",
    "Create Python program called `dna.py` that will accept a sequence of DNA as a single positional argument to count tetranucleotide frequency."
   ]
  },
  {
   "cell_type": "code",
   "execution_count": null,
   "metadata": {},
   "outputs": [],
   "source": [
    "# Run this cell to make sure this assignment is up to date\n",
    "%cd ~/be434-Spring2025\n",
    "!git pull --no-edit upstream main"
   ]
  },
  {
   "cell_type": "markdown",
   "metadata": {},
   "source": [
    "## Getting Started with new.py\n",
    "\n",
    "Let's start out by using new.py to create a program template for us.\n"
   ]
  },
  {
   "cell_type": "code",
   "execution_count": null,
   "metadata": {},
   "outputs": [],
   "source": [
    "# Generate the `dna.py` using `new.py`\n",
    "%cd ~/be434-Spring2024/assignments/03_dna\n",
    "!../../bin/new.py -p 'DNA: count tetranucleotide frequency' dna.py"
   ]
  },
  {
   "cell_type": "markdown",
   "metadata": {},
   "source": [
    "You should see the following:\n",
    "\n",
    "```\n",
    "$ new.py -p 'DNA: count tetranucleotide frequency' dna.py\n",
    "Done, see new script \"dna.py.\"\n",
    "```"
   ]
  },
  {
   "cell_type": "markdown",
   "metadata": {},
   "source": [
    "## Instructions\n",
    "\n",
    "### Usage and Arguments\n",
    "\n",
    "The program should print a \"usage\" statement for `-h` or `--help` flags:\n",
    "\n",
    "```\n",
    "$ ./dna.py -h\n",
    "usage: dna.py [-h] DNA\n",
    "\n",
    "Tetranucleotide frequency\n",
    "\n",
    "positional arguments:\n",
    "  DNA         Input DNA sequence\n",
    "\n",
    "optional arguments:\n",
    "  -h, --help  show this help message and exit\n",
    "```\n",
    "\n",
    "The program should print the frequencies of the bases A, C, G, and T:\n",
    "\n",
    "```\n",
    "$ ./dna.py AGCTTTTCATTCTGACTGCAACGGGCAATATGTCTCTGTGTGGATTAAAAAAAGAGTGTCTGATAGCAGC\n",
    "20 12 17 21\n",
    "```\n",
    "\n",
    "To pass the test the output will need to be in exactly the same format as above."
   ]
  },
  {
   "cell_type": "markdown",
   "metadata": {},
   "source": [
    "## Time to write some code!\n",
    "\n",
    "Open the script in VSCode through the HPC app to edit the code. Write the code to match the instructions above. Note that you must follow the instructions exactly (including all spaces and punctuation!)"
   ]
  },
  {
   "cell_type": "markdown",
   "metadata": {},
   "source": [
    "## Testing\n",
    "\n",
    "As you write your code, you can test it along the way to make sure that you are passing all of the tests for the homework. \n",
    "\n",
    "We will use the test suite that is included with the assignment to test that you are meeting all of the requirements in the instructions above.\n",
    "\n",
    "You will find the steps below to test your code. Note that you can run these commands from a \"shell\" within the VS Code GUI. Or, you can run them here... "
   ]
  },
  {
   "cell_type": "code",
   "execution_count": null,
   "metadata": {},
   "outputs": [],
   "source": [
    "# Format your code to make it beautiful (this is called linting)\n",
    "%cd ~/be434-Spring2025/assignments/03_dna\n",
    "!apptainer run /xdisk/bhurwitz/bh_class/biosystems/biosystems.sif black dna.py"
   ]
  },
  {
   "cell_type": "code",
   "execution_count": null,
   "metadata": {},
   "outputs": [],
   "source": [
    "# Now run the tests on your code\n",
    "%cd ~/be434-Spring2025/assignments/03_dna\n",
    "!apptainer run /xdisk/bhurwitz/bh_class/biosystems/biosystems.sif make test"
   ]
  },
  {
   "cell_type": "markdown",
   "metadata": {},
   "source": [
    "A passing test suite looks like this:\n",
    "\n",
    "To pass the test the output will need to be in exactly the same format as above.\n",
    "The `make test` target will run the complete test suite:\n",
    "\n",
    "```\n",
    "$ make test\n",
    "python3 -m pytest -xv --flake8 --pylint --mypy dna.py tests/dna_test.py\n",
    "============================ test session starts ============================\n",
    "...\n",
    "\n",
    "dna.py::FLAKE8 PASSED                                                 [ 11%]\n",
    "dna.py::mypy PASSED                                                   [ 22%]\n",
    "tests/dna_test.py::FLAKE8 SKIPPED                                     [ 33%]\n",
    "tests/dna_test.py::mypy PASSED                                        [ 44%]\n",
    "tests/dna_test.py::test_exists PASSED                                 [ 55%]\n",
    "tests/dna_test.py::test_usage PASSED                                  [ 66%]\n",
    "tests/dna_test.py::test_arg PASSED                                    [ 77%]\n",
    "tests/dna_test.py::test_file PASSED                                   [ 88%]\n",
    "::mypy PASSED                                                         [100%]\n",
    "=================================== mypy ====================================\n",
    "\n",
    "Success: no issues found in 2 source files\n",
    "======================= 8 passed, 1 skipped in 0.87s ========================\n",
    "```\n",
    "\n",
    "Your grade is whatever percentage of tests your code passes."
   ]
  },
  {
   "cell_type": "markdown",
   "metadata": {},
   "source": [
    "## Uploading your code to GitHub\n",
    "\n",
    "Once you have written the code for your assignment, and are passing all of the tests above, you are ready to submit the assignment for grading. Use the steps below to submit your code to GitHub.\n",
    "\n",
    "* Note, if you are having any issues with passing tests, and need help, you can also submit the code with a different commit message like the following. \n",
    "\n",
    "```\n",
    "git commit -m \"help!\"\n",
    "```\n",
    "\n",
    "Once you have done that, send a private slack message to me @bhurwitz to let me know you submitted code and need help.\n"
   ]
  },
  {
   "cell_type": "code",
   "execution_count": null,
   "metadata": {},
   "outputs": [],
   "source": [
    "# Submit your code to Github\n",
    "%cd\n",
    "%cd be434-Spring2025\n",
    "!git add -A && git commit -m \"Submitting 03_dna for grading\"\n",
    "!git push"
   ]
  },
  {
   "cell_type": "markdown",
   "metadata": {},
   "source": [
    "Great job! You are done with this assignment.\n",
    "\n",
    "## Authors\n",
    "\n",
    "Bonnie Hurwitz <bhurwitz@arizona.edu> and Ken Youens-Clark <kyclark@gmail.com>"
   ]
  }
 ],
 "metadata": {
  "kernelspec": {
   "display_name": "Python 3 (ipykernel)",
   "language": "python",
   "name": "python3"
  },
  "language_info": {
   "codemirror_mode": {
    "name": "ipython",
    "version": 3
   },
   "file_extension": ".py",
   "mimetype": "text/x-python",
   "name": "python",
   "nbconvert_exporter": "python",
   "pygments_lexer": "ipython3",
   "version": "3.9.6"
  }
 },
 "nbformat": 4,
 "nbformat_minor": 5
}
