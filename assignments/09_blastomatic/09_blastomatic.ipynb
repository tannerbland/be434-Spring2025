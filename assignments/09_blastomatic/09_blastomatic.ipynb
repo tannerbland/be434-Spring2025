{
 "cells": [
  {
   "cell_type": "markdown",
   "metadata": {},
   "source": [
    "# Assignment 9: Blastomatic: Parsing Delimited Text Files\n",
    "\n",
    "Delimited text files are a standard way to encode columnar data. You are likely familiar with spreadsheets like Microsoft Excel or Google Sheets where each worksheet may hold a data set with columns across the top and records running down. You can export this data to a text file where the columns of data are delimited, or separated by a character.\n",
    "Quite often the delimiter is a comma, and the file will have an extension\n",
    "of .csv.\n",
    "This format is called CSV for comma-separated values.\n",
    "When the delimiter is a Tab, the extension may be .tab, .txt, or .tsv for tab-separated values.\n",
    "The first line of the file usually will contain the names of the columns. Notably, this is not the case with the tabular output from BLAST (Basic Local Alignment Search Tool), one of the most popular tools in bioinformatics used to compare sequences.\n",
    "In this homework, you will parse blast output and merge the BLAST results with metadata from another delimited text file using the csv and pandas modules.\n",
    "\n",
    "In this homework, you will:\n",
    "\n",
    "* Learn how to use the csv and pandas modules to parse delimited text files\n",
    "\n",
    "Write a program called `blastomatic.py` that will select BLAST hits above a given percent ID and will merge them with annotations and print the query sequence ID, the percent ID, the depth, and the lat/lon."
   ]
  },
  {
   "cell_type": "code",
   "execution_count": null,
   "metadata": {},
   "outputs": [],
   "source": [
    "# Go to your working directory on the HPC\n",
    "%cd ~/be434-Spring2025\n",
    "!git pull"
   ]
  },
  {
   "cell_type": "markdown",
   "metadata": {},
   "source": [
    "## Getting Started with new.py\n",
    "\n",
    "Let's start out by using new.py to create a program template for us.\n"
   ]
  },
  {
   "cell_type": "code",
   "execution_count": null,
   "metadata": {},
   "outputs": [],
   "source": [
    "# Generate the `blastomatic.py` using `new.py`\n",
    "%cd ~/be434-Spring2025/assignments/09_blastomatic\n",
    "!../../bin/new.py -p 'Parse blast file' blastomatic.py"
   ]
  },
  {
   "cell_type": "markdown",
   "metadata": {},
   "source": [
    "You should see the following:\n",
    "\n",
    "```\n",
    "$ new.py -p 'Parse blast file' blastomatic.py\n",
    "Done, see new script \"blastomatic.py.\"\n",
    "```"
   ]
  },
  {
   "cell_type": "markdown",
   "metadata": {},
   "source": [
    "## Instructions\n",
    "\n",
    "### Usage and Arguments\n",
    "\n",
    "```\n",
    "$ ./blastomatic.py -a tests/inputs/meta.csv -b tests/inputs/hits1.csv -p 99\n",
    "Exported 22 to \"out.csv\".\n",
    "$ head out.csv\n",
    "qseqid,pident,depth,lat_lon\n",
    "\"JCVI_READ_1095913011720\",\"100.000\",\"12\",\"41.485832,-71.35111\"\n",
    "\"JCVI_READ_1095900076806\",\"100.000\",\"32\",\"41.09111,-71.60222\"\n",
    "\"JCVI_READ_1095900076806\",\"100.000\",\"32\",\"41.09111,-71.60222\"\n",
    "\"JCVI_READ_1095901257294\",\"100.000\",\"32\",\"41.09111,-71.60222\"\n",
    "\"JCVI_READ_1095899227776\",\"100.000\",\"25\",\"38.946945,-76.41722\"\n",
    "\"JCVI_READ_1093012135235\",\"100.000\",\"20\",\"36.003887,-75.39472\"\n",
    "\"JCVI_READ_1093012135235\",\"100.000\",\"20\",\"36.003887,-75.39472\"\n",
    "\"JCVI_READ_1093012135235\",\"100.000\",\"20\",\"36.003887,-75.39472\"\n",
    "\"JCVI_READ_1093012135235\",\"100.000\",\"20\",\"36.003887,-75.39472\"\n",
    "```\n",
    "\n",
    "The program should produce a usage:\n",
    "\n",
    "```\n",
    "$ ./blastomatic.py -h\n",
    "usage: blastomatic.py [-h] -b FILE -a FILE [-o FILE] [-d DELIM] [-p PCTID]\n",
    "\n",
    "Annotate BLAST output\n",
    "\n",
    "optional arguments:\n",
    "  -h, --help            show this help message and exit\n",
    "  -b FILE, --blasthits FILE\n",
    "                        BLAST -outfmt 6 (default: None)\n",
    "  -a FILE, --annotations FILE\n",
    "                        Annotations file (default: None)\n",
    "  -o FILE, --outfile FILE\n",
    "                        Output file (default: out.csv)\n",
    "  -d DELIM, --delimiter DELIM\n",
    "                        Output field delimiter (default: )\n",
    "  -p PCTID, --pctid PCTID\n",
    "                        Minimum percent identity (default: 0.0)\n",
    "```"
   ]
  },
  {
   "cell_type": "markdown",
   "metadata": {},
   "source": [
    "## Time to write some code!\n",
    "\n",
    "Open the script in VSCode through the HPC app to edit the code. Write the code to match the instructions above. Note that you must follow the instructions exactly (including all spaces and punctuation!)"
   ]
  },
  {
   "cell_type": "markdown",
   "metadata": {},
   "source": [
    "## Testing\n",
    "\n",
    "As you write your code, you can test it along the way to make sure that you are passing all of the tests for the homework. \n",
    "\n",
    "We will use the test suite that is included with the assignment to test that you are meeting all of the requirements in the instructions above.\n",
    "\n",
    "You will find the steps below to test your code. Note that you can run these commands from a \"shell\" within the VS Code GUI. Or, you can run them here... "
   ]
  },
  {
   "cell_type": "code",
   "execution_count": null,
   "metadata": {},
   "outputs": [],
   "source": [
    "# Format your code to make it beautiful (this is called linting)\n",
    "%cd ~/be434-Spring2025/assignments/09_blastomatic\n",
    "!apptainer run /xdisk/bhurwitz/bh_class/biosystems/biosystems.sif black blastomatic.py"
   ]
  },
  {
   "cell_type": "code",
   "execution_count": null,
   "metadata": {},
   "outputs": [],
   "source": [
    "# Now run the tests on your code\n",
    "%cd ~/be434-Spring2025/assignments/09_blastomatic\n",
    "!apptainer run /xdisk/bhurwitz/bh_class/biosystems/biosystems.sif make test"
   ]
  },
  {
   "cell_type": "markdown",
   "metadata": {},
   "source": [
    "A passing test suite looks like this:\n",
    "\n",
    "\n",
    "```\n",
    "$ make test\n",
    "python3 -m pytest -xv --disable-pytest-warnings --flake8 --pylint\n",
    "--mypy blastomatic.py tests/*_test.py\n",
    "============================= test session starts ==============================\n",
    "...\n",
    "collected 15 items\n",
    "\n",
    "blastomatic.py::FLAKE8 SKIPPED                                           [  6%]\n",
    "blastomatic.py::mypy PASSED                                              [ 12%]\n",
    "tests/blastomatic_test.py::FLAKE8 SKIPPED                                [ 18%]\n",
    "tests/blastomatic_test.py::mypy PASSED                                   [ 25%]\n",
    "tests/blastomatic_test.py::test_exists PASSED                            [ 31%]\n",
    "tests/blastomatic_test.py::test_usage PASSED                             [ 37%]\n",
    "tests/blastomatic_test.py::test_bad_annotations PASSED                   [ 43%]\n",
    "tests/blastomatic_test.py::test_bad_input_file PASSED                    [ 50%]\n",
    "tests/blastomatic_test.py::test_good_input PASSED                        [ 56%]\n",
    "tests/blastomatic_test.py::test_delimiter PASSED                         [ 62%]\n",
    "tests/blastomatic_test.py::test_guess_delimiter PASSED                   [ 68%]\n",
    "tests/blastomatic_test.py::test_pctid PASSED                             [ 75%]\n",
    "tests/unit_test.py::FLAKE8 SKIPPED                                       [ 81%]\n",
    "tests/unit_test.py::mypy PASSED                                          [ 87%]\n",
    "tests/unit_test.py::test_guess_delimiter PASSED                          [ 93%]\n",
    "::mypy PASSED                                                            [100%]\n",
    "===================================== mypy =====================================\n",
    "\n",
    "Success: no issues found in 3 source files\n",
    "======================== 13 passed, 3 skipped in 2.84s =========================\n",
    "```\n",
    "\n",
    "Your grade is whatever percentage of tests your code passes."
   ]
  },
  {
   "cell_type": "markdown",
   "metadata": {},
   "source": [
    "## Uploading your code to GitHub\n",
    "\n",
    "Once you have written the code for your assignment, and are passing all of the tests above, you are ready to submit the assignment for grading. Use the steps below to submit your code to GitHub.\n",
    "\n",
    "* Note, if you are having any issues with passing tests, and need help, you can also submit the code with a different commit message like the following. \n",
    "\n",
    "```\n",
    "git commit -m \"help!\"\n",
    "```\n",
    "\n",
    "Once you have done that, send a private slack message to me @bhurwitz to let me know you submitted code and need help.\n"
   ]
  },
  {
   "cell_type": "code",
   "execution_count": null,
   "metadata": {},
   "outputs": [],
   "source": [
    "# Submit your code to Github\n",
    "%cd\n",
    "%cd be434-Spring2025\n",
    "!git add -A && git commit -m \"Submitting 09_blastomatic for grading\"\n",
    "!git push"
   ]
  },
  {
   "cell_type": "markdown",
   "metadata": {},
   "source": [
    "Great job! You are done with this assignment.\n",
    "\n",
    "## Authors\n",
    "\n",
    "Bonnie Hurwitz <bhurwitz@arizona.edu> and Ken Youens-Clark <kyclark@gmail.com>"
   ]
  }
 ],
 "metadata": {
  "kernelspec": {
   "display_name": "Python 3 (ipykernel)",
   "language": "python",
   "name": "python3"
  },
  "language_info": {
   "codemirror_mode": {
    "name": "ipython",
    "version": 3
   },
   "file_extension": ".py",
   "mimetype": "text/x-python",
   "name": "python",
   "nbconvert_exporter": "python",
   "pygments_lexer": "ipython3",
   "version": "3.9.6"
  }
 },
 "nbformat": 4,
 "nbformat_minor": 5
}
