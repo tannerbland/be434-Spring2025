{
 "cells": [
  {
   "cell_type": "markdown",
   "metadata": {},
   "source": [
    "# Assignment 5: Finding GC Content in Sequences\n",
    "\n",
    "Write a Python program called `cgc.py` that takes a single positional argument which should be a readable text file."
   ]
  },
  {
   "cell_type": "code",
   "execution_count": null,
   "metadata": {},
   "outputs": [],
   "source": [
    "# Run this cell to make sure this assignment is up to date\n",
    "%cd ~/be434-Spring2025\n",
    "!git pull --no-edit upstream main"
   ]
  },
  {
   "cell_type": "markdown",
   "metadata": {},
   "source": [
    "## Getting Started with new.py\n",
    "\n",
    "Let's start out by using new.py to create a program template for us.\n"
   ]
  },
  {
   "cell_type": "code",
   "execution_count": null,
   "metadata": {},
   "outputs": [],
   "source": [
    "# Generate the `cgc.py` using `new.py`\n",
    "%cd ~/be434-Spring2024/assignments/05_gc\n",
    "!../../bin/new.py -p 'GC content' cgc.py"
   ]
  },
  {
   "cell_type": "markdown",
   "metadata": {},
   "source": [
    "You should see the following:\n",
    "\n",
    "```\n",
    "$ new.py -p 'GC content' cgc.py\n",
    "Done, see new script \"cgc.py.\"\n",
    "```"
   ]
  },
  {
   "cell_type": "markdown",
   "metadata": {},
   "source": [
    "## Instructions\n",
    "\n",
    "### Usage and Arguments\n",
    "\n",
    "```\n",
    "$ ./cgc.py -h\n",
    "usage: cgc.py [-h] FILE\n",
    "\n",
    "Compute GC content\n",
    "\n",
    "positional arguments:\n",
    "  FILE        Input sequence file\n",
    "\n",
    "optional arguments:\n",
    "  -h, --help  show this help message and exit\n",
    "```\n",
    "\n",
    "The input file will be in FASTA format:\n",
    "\n",
    "```\n",
    "$ cat tests/inputs/1.fa\n",
    ">Rosalind_6404\n",
    "CCTGCGGAAGATCGGCACTAGAATAGCCAGAACCGTTTCTCTGAGGCTTCCGGCCTTCCC\n",
    "TCCCACTAATAATTCTGAGG\n",
    ">Rosalind_5959\n",
    "CCATCGGTAGCGCATCCTTAGTCCAATTAAGTCCCTATCCAGGCGCTCCGCCGAAGGTCT\n",
    "ATATCCATTTGTCAGCAGACACGC\n",
    ">Rosalind_0808\n",
    "CCACCCTCGTGGTATGGCTAGGCATTCAGGAACCGGAGAACGCTTCAGACCAGCCCGGAC\n",
    "TGGGAACCTGCGGGCAGTAGGTGGAAT\n",
    "```\n",
    "\n",
    "The output should be the sequence ID with the highest GC content along with that GC content as a floating-point value to 6 significant digits:\n",
    "\n",
    "```\n",
    "$ ./cgc.py tests/inputs/1.fa\n",
    "Rosalind_0808 60.919540\n",
    "```\n"
   ]
  },
  {
   "cell_type": "markdown",
   "metadata": {},
   "source": [
    "## Time to write some code!\n",
    "\n",
    "Open the script in VSCode through the HPC app to edit the code. Write the code to match the instructions above. Note that you must follow the instructions exactly (including all spaces and punctuation!)"
   ]
  },
  {
   "cell_type": "markdown",
   "metadata": {},
   "source": [
    "## Testing\n",
    "\n",
    "As you write your code, you can test it along the way to make sure that you are passing all of the tests for the homework. \n",
    "\n",
    "We will use the test suite that is included with the assignment to test that you are meeting all of the requirements in the instructions above.\n",
    "\n",
    "You will find the steps below to test your code. Note that you can run these commands from a \"shell\" within the VS Code GUI. Or, you can run them here... "
   ]
  },
  {
   "cell_type": "code",
   "execution_count": null,
   "metadata": {},
   "outputs": [],
   "source": [
    "# Format your code to make it beautiful (this is called linting)\n",
    "%cd ~/be434-Spring2025/assignments/05_gc\n",
    "!apptainer run /xdisk/bhurwitz/bh_class/biosystems/biosystems.sif black cgc.py"
   ]
  },
  {
   "cell_type": "code",
   "execution_count": null,
   "metadata": {},
   "outputs": [],
   "source": [
    "# Now run the tests on your code\n",
    "%cd ~/be434-Spring2025/assignments/05_gc\n",
    "!apptainer run /xdisk/bhurwitz/bh_class/biosystems/biosystems.sif make test"
   ]
  },
  {
   "cell_type": "markdown",
   "metadata": {},
   "source": [
    "A passing test suite looks like this:\n",
    "\n",
    "```\n",
    "$ make test\n",
    "python3 -m pytest -xv --disable-pytest-warnings --flake8 --pylint\n",
    "--mypy cgc.py tests/test.py\n",
    "============================ test session starts ============================\n",
    "...\n",
    "\n",
    "cgc.py::FLAKE8 SKIPPED                                                [  9%]\n",
    "cgc.py::mypy PASSED                                                   [ 18%]\n",
    "cgc.py::test_gc PASSED                                                [ 27%]\n",
    "tests/test.py::FLAKE8 SKIPPED                                     [ 36%]\n",
    "tests/test.py::mypy PASSED                                        [ 45%]\n",
    "tests/test.py::test_exists PASSED                                 [ 54%]\n",
    "tests/test.py::test_usage PASSED                                  [ 63%]\n",
    "tests/test.py::test_bad_input PASSED                              [ 72%]\n",
    "tests/test.py::test_good_input1 PASSED                            [ 81%]\n",
    "tests/test.py::test_good_input2 PASSED                            [ 90%]\n",
    "::mypy PASSED                                                         [100%]\n",
    "=================================== mypy ====================================\n",
    "\n",
    "Success: no issues found in 2 source files\n",
    "======================= 9 passed, 2 skipped in 1.39s ========================\n",
    "```\n",
    "\n",
    "Your grade is whatever percentage of tests your code passes."
   ]
  },
  {
   "cell_type": "markdown",
   "metadata": {},
   "source": [
    "## Uploading your code to GitHub\n",
    "\n",
    "Once you have written the code for your assignment, and are passing all of the tests above, you are ready to submit the assignment for grading. Use the steps below to submit your code to GitHub.\n",
    "\n",
    "* Note, if you are having any issues with passing tests, and need help, you can also submit the code with a different commit message like the following. \n",
    "\n",
    "```\n",
    "git commit -m \"help!\"\n",
    "```\n",
    "\n",
    "Once you have done that, send a private slack message to me @bhurwitz to let me know you submitted code and need help.\n"
   ]
  },
  {
   "cell_type": "code",
   "execution_count": null,
   "metadata": {},
   "outputs": [],
   "source": [
    "# Submit your code to Github\n",
    "%cd\n",
    "%cd be434-Spring2025\n",
    "!git add -A && git commit -m \"Submitting 05_gc for grading\"\n",
    "!git push"
   ]
  },
  {
   "cell_type": "markdown",
   "metadata": {},
   "source": [
    "Great job! You are done with this assignment.\n",
    "\n",
    "## Authors\n",
    "\n",
    "Bonnie Hurwitz <bhurwitz@arizona.edu> and Ken Youens-Clark <kyclark@gmail.com>"
   ]
  }
 ],
 "metadata": {
  "kernelspec": {
   "display_name": "Python 3 (ipykernel)",
   "language": "python",
   "name": "python3"
  },
  "language_info": {
   "codemirror_mode": {
    "name": "ipython",
    "version": 3
   },
   "file_extension": ".py",
   "mimetype": "text/x-python",
   "name": "python",
   "nbconvert_exporter": "python",
   "pygments_lexer": "ipython3",
   "version": "3.9.6"
  }
 },
 "nbformat": 4,
 "nbformat_minor": 5
}
